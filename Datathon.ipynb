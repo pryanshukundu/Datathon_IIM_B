{
  "nbformat": 4,
  "nbformat_minor": 0,
  "metadata": {
    "colab": {
      "provenance": []
    },
    "kernelspec": {
      "name": "ir",
      "display_name": "R"
    },
    "language_info": {
      "name": "R"
    },
    "accelerator": "GPU",
    "gpuClass": "standard"
  },
  "cells": [
    {
      "cell_type": "markdown",
      "source": [
        "# **Datathon - Analysis of Champo Carpet Dataset**\n",
        "\n",
        "### **Done by - The Night's watch**"
      ],
      "metadata": {
        "id": "50EbL60cY68H"
      }
    },
    {
      "cell_type": "code",
      "source": [
        "#Installing Packages\n",
        "install.packages(\"pacman\")       \n",
        "library(\"pacman\")"
      ],
      "metadata": {
        "colab": {
          "base_uri": "https://localhost:8080/"
        },
        "id": "syaDCeBjRekA",
        "outputId": "0e1cbffe-0402-4ce9-88d7-69224c9b320e"
      },
      "execution_count": null,
      "outputs": [
        {
          "output_type": "stream",
          "name": "stderr",
          "text": [
            "Installing package into ‘/usr/local/lib/R/site-library’\n",
            "(as ‘lib’ is unspecified)\n",
            "\n"
          ]
        }
      ]
    },
    {
      "cell_type": "code",
      "execution_count": null,
      "metadata": {
        "colab": {
          "base_uri": "https://localhost:8080/"
        },
        "id": "N6xYDiVNQ8sz",
        "outputId": "266cd43e-68ab-4c84-c5bb-25891c333ec1"
      },
      "outputs": [
        {
          "output_type": "stream",
          "name": "stderr",
          "text": [
            "Installing package into ‘/usr/local/lib/R/site-library’\n",
            "(as ‘lib’ is unspecified)\n",
            "\n",
            "\n",
            "rpart.plot installed\n",
            "\n"
          ]
        }
      ],
      "source": [
        "pacman::p_load(\"pacman\",\"tidyverse\",\"rpart\",\"rpart.plot\",\"readxl\")"
      ]
    },
    {
      "cell_type": "markdown",
      "source": [
        "### Loading the Dataset"
      ],
      "metadata": {
        "id": "FQltaJeTZqQR"
      }
    },
    {
      "cell_type": "code",
      "source": [
        "#Dataset - Raw Data-Order and Sample\n",
        "OrderSample <- read_xlsx(\"IMB881.xlsx\",sheet = 2)\n",
        "#Dataset - Data Order ONLY \n",
        "DataOrder <- read_xlsx(\"IMB881.xlsx\", sheet = 3)\n",
        "#Data on Sample ONLY\n",
        "DataOnSample<- read_xlsx(\"IMB881.xlsx\", sheet = 4)\n",
        "#Data for Recommendation\n",
        "DataForRecommendation <- read_xlsx(\"IMB881.xlsx\", sheet = 5)\n",
        "#Data for Clustering\n",
        "DataForClustering <- read_xlsx(\"IMB881.xlsx\",sheet = 6)\n",
        "#Data-Association Rules A-11\n",
        "AssociationRules <- read_xlsx(\"IMB881.xlsx\", sheet = 7)"
      ],
      "metadata": {
        "colab": {
          "base_uri": "https://localhost:8080/"
        },
        "id": "a9amqhbuSAG-",
        "outputId": "35348ac6-b950-4d0e-a4ce-c7e4902e5e9e"
      },
      "execution_count": null,
      "outputs": [
        {
          "output_type": "stream",
          "name": "stderr",
          "text": [
            "\u001b[1m\u001b[22mNew names:\n",
            "\u001b[36m•\u001b[39m `Customer` -> `Customer...1`\n",
            "\u001b[36m•\u001b[39m `` -> `...22`\n",
            "\u001b[36m•\u001b[39m `` -> `...23`\n",
            "\u001b[36m•\u001b[39m `Customer` -> `Customer...24`\n",
            "\u001b[1m\u001b[22mNew names:\n",
            "\u001b[36m•\u001b[39m `Order No` -> `Order No...1`\n",
            "\u001b[36m•\u001b[39m `` -> `...9`\n",
            "\u001b[36m•\u001b[39m `Order No` -> `Order No...10`\n"
          ]
        }
      ]
    },
    {
      "cell_type": "markdown",
      "source": [
        "### Exploratory Dataset Analysis - EDA\n",
        "\n",
        "\n",
        "*   For the Exploratorary Data analysis we have found that there are no outliers in OrderType, OrderCategory, CustomerCode,  CountryName, Custorderdate, UnitName whereas there are outliers in CustomerOrderNo, DataSample.\n",
        "*   We have to convert : \n",
        "\n",
        "    1.   Converting values of categorical with character into factor format\n",
        " \n",
        "    2.   Converting values of categorical with posix format into date format\n",
        "\n",
        "*   There are a lot of NA Values and since '0' has occured most no of times we can consider replacing NA values with it\n",
        "\n",
        "\n",
        "\n",
        "\n",
        "\n",
        "\n"
      ],
      "metadata": {
        "id": "EvOZuThzZ_0Q"
      }
    },
    {
      "cell_type": "code",
      "source": [
        "#Creating backup for Order Sample Dataset\n",
        "OrderSample2 <- OrderSample\n",
        "    #There are no outliers in OrderType, OrderCategory, CustomerCode,  CountryName, Custorderdate, UnitName\n",
        "  \n",
        "    #Converting values of categorical with character into factor format\n",
        "    OrderSample$OrderType<- as.factor(OrderSample$OrderType)\n",
        "    OrderSample$OrderCategory <- as.factor(OrderSample$OrderCategory)\n",
        "    OrderSample$CustomerCode <- as.factor(OrderSample$CustomerCode)\n",
        "    OrderSample$CountryName <- as.factor(OrderSample$CountryName)\n",
        "    OrderSample$UnitName <- as.factor(OrderSample$UnitName)\n",
        "    OrderSample$ITEM_NAME <- as.factor(OrderSample$ITEM_NAME)\n",
        "    OrderSample$QualityName <- as.factor(OrderSample$QualityName)\n",
        "    OrderSample$DesignName <- as.factor(OrderSample$DesignName)\n",
        "    OrderSample$ColorName <- as.factor(OrderSample$ColorName)\n",
        "    OrderSample$ShapeName <- as.factor(OrderSample$ShapeName)\n",
        "    "
      ],
      "metadata": {
        "id": "t3VJRel-SsRS"
      },
      "execution_count": null,
      "outputs": []
    },
    {
      "cell_type": "code",
      "source": [
        " #Converting values of categorical with posix format into date format\n",
        "    OrderSample$Custorderdate <- as.Date(OrderSample$Custorderdate)\n",
        "    \n",
        "    #Removing Custorderdate as we are not getting the tree\n",
        "    OrderSample <- select(OrderSample,-c('Custorderdate'))\n",
        "    \n",
        "  #There are outliers in CustomerOrderNo\n",
        "        #Since there are a lot of values in CustomerOrderNo we do the following to extract most occuring value in our data\n",
        "      CON1<-OrderSample$CustomerOrderNo\n",
        "      sort(table(CON1), decreasing = T)[1:3] #By doing this we get the top 3 frequently occuring values in the column\n",
        "      \n",
        "      #the value \"12985\" has occured 114 times so we replace the NA values with it \n",
        "      a3<-OrderSample$CustomerOrderNo\n",
        "      e3<-replace_na(a3,\"12985\")\n",
        "      OrderSample$CustomerOrderNo<-as.numeric(e3)"
      ],
      "metadata": {
        "colab": {
          "base_uri": "https://localhost:8080/",
          "height": 104
        },
        "id": "GfUQm19iS1d0",
        "outputId": "a3372ab5-00b3-4bbb-b849-08bda925f7dd"
      },
      "execution_count": null,
      "outputs": [
        {
          "output_type": "display_data",
          "data": {
            "text/plain": [
              "CON1\n",
              "12985 12440 46797 \n",
              "  114    93    88 "
            ]
          },
          "metadata": {}
        },
        {
          "output_type": "stream",
          "name": "stderr",
          "text": [
            "Warning message in eval(expr, envir, enclos):\n",
            "“NAs introduced by coercion”\n"
          ]
        }
      ]
    },
    {
      "cell_type": "code",
      "source": [
        "####Data Cleaning for DataOrder table####\n",
        "      \n",
        "      sum(is.na(DataOrder))\n",
        "      \n",
        "      #There are no outliers in DataOrder table\n",
        "      \n",
        "      \n",
        "####Data Cleaning for DataOnSample table ####\n",
        "      \n",
        "      #There are about 273 outliers so we need to remove them \n",
        "      \n",
        "#There are no outliers for the following values\n",
        "      DataOnSample$CustomerCode <- as.factor(DataOnSample$CustomerCode)\n",
        "      DataOnSample$CountryName <- as.factor(DataOnSample$CountryName)"
      ],
      "metadata": {
        "colab": {
          "base_uri": "https://localhost:8080/",
          "height": 34
        },
        "id": "7mczgro1S4UW",
        "outputId": "5e86ea0c-d299-43c7-daea-b68337932755"
      },
      "execution_count": null,
      "outputs": [
        {
          "output_type": "display_data",
          "data": {
            "text/html": [
              "0"
            ],
            "text/markdown": "0",
            "text/latex": "0",
            "text/plain": [
              "[1] 0"
            ]
          },
          "metadata": {}
        }
      ]
    },
    {
      "cell_type": "code",
      "source": [
        "#There are outliers for the following values\n",
        "      #USA\n",
        "      sum(is.na(DataOnSample$USA))\n",
        "      table(DataOnSample$USA)\n",
        "      \n",
        "      \n",
        "      \n",
        "  #Since '0' has occured most no of times we consider replacing NA values with it\n",
        "      a4<-DataOnSample$USA\n",
        "      e4<-replace_na(a4,0)\n",
        "      DataOnSample$USA<-as.factor(e4)"
      ],
      "metadata": {
        "colab": {
          "base_uri": "https://localhost:8080/",
          "height": 86
        },
        "id": "DupTDO7STE8y",
        "outputId": "d90bfa4b-3c4e-47b8-d205-388d6af50473"
      },
      "execution_count": null,
      "outputs": [
        {
          "output_type": "display_data",
          "data": {
            "text/html": [
              "39"
            ],
            "text/markdown": "39",
            "text/latex": "39",
            "text/plain": [
              "[1] 39"
            ]
          },
          "metadata": {}
        },
        {
          "output_type": "display_data",
          "data": {
            "text/plain": [
              "\n",
              "   0    1 \n",
              "4341 1440 "
            ]
          },
          "metadata": {}
        }
      ]
    },
    {
      "cell_type": "code",
      "source": [
        "#UK\n",
        "      #Since '0' has occured most no of times we consider replacing NA values with it\n",
        "      \n",
        "      a5<-DataOnSample$UK\n",
        "      e5<-replace_na(a5,0)\n",
        "      DataOnSample$UK<-as.factor(e5)"
      ],
      "metadata": {
        "id": "IKLlv0SkTJi0"
      },
      "execution_count": null,
      "outputs": []
    },
    {
      "cell_type": "code",
      "source": [
        " #Italy\n",
        "      #Since '0' has occured most no of times we consider replacing NA values with it \n",
        "      \n",
        "      table(DataOnSample$Italy)\n",
        "      sum(is.na(DataOnSample$Italy))\n",
        "      a6<-DataOnSample$Italy\n",
        "      e6<-replace_na(a6,0)\n",
        "      DataOnSample$Italy<-as.factor(e6)\n",
        "      "
      ],
      "metadata": {
        "colab": {
          "base_uri": "https://localhost:8080/",
          "height": 86
        },
        "id": "S1cktxDkTNZt",
        "outputId": "378e6687-39bc-472e-e0a8-8edf85457056"
      },
      "execution_count": null,
      "outputs": [
        {
          "output_type": "display_data",
          "data": {
            "text/plain": [
              "\n",
              "   0    1 \n",
              "5736   45 "
            ]
          },
          "metadata": {}
        },
        {
          "output_type": "display_data",
          "data": {
            "text/html": [
              "39"
            ],
            "text/markdown": "39",
            "text/latex": "39",
            "text/plain": [
              "[1] 39"
            ]
          },
          "metadata": {}
        }
      ]
    },
    {
      "cell_type": "code",
      "source": [
        "#Belgium\n",
        "      #Since '0' has occured most no of times we consider replacing NA values with it \n",
        "      \n",
        "      table(DataOnSample$Belgium)\n",
        "      sum(is.na(DataOnSample$Belgium))\n",
        "      a7<-DataOnSample$Belgium\n",
        "      e7<-replace_na(a7,0)\n",
        "      DataOnSample$Belgium<-as.factor(e7)\n",
        "      "
      ],
      "metadata": {
        "colab": {
          "base_uri": "https://localhost:8080/",
          "height": 86
        },
        "id": "PVqP-kOjTPFE",
        "outputId": "dd60a814-f8d5-47d3-d156-cf419d91fe88"
      },
      "execution_count": null,
      "outputs": [
        {
          "output_type": "display_data",
          "data": {
            "text/plain": [
              "\n",
              "   0    1 \n",
              "5649  132 "
            ]
          },
          "metadata": {}
        },
        {
          "output_type": "display_data",
          "data": {
            "text/html": [
              "39"
            ],
            "text/markdown": "39",
            "text/latex": "39",
            "text/plain": [
              "[1] 39"
            ]
          },
          "metadata": {}
        }
      ]
    },
    {
      "cell_type": "code",
      "source": [
        " \n",
        "      #Romania\n",
        "      #Since '0' has occured most no of times we consider replacing NA values with it \n",
        "      \n",
        "      table(DataOnSample$Romania)\n",
        "      sum(is.na(DataOnSample$Romania))\n",
        "      a8<-DataOnSample$Romania\n",
        "      e8<-replace_na(a8,0)\n",
        "      DataOnSample$Romania<-as.factor(e8)\n",
        "      "
      ],
      "metadata": {
        "colab": {
          "base_uri": "https://localhost:8080/",
          "height": 86
        },
        "id": "enXDlkfrTQh3",
        "outputId": "34209da7-491d-413a-f2a4-1555cbe47009"
      },
      "execution_count": null,
      "outputs": [
        {
          "output_type": "display_data",
          "data": {
            "text/plain": [
              "\n",
              "   0    1 \n",
              "5761   20 "
            ]
          },
          "metadata": {}
        },
        {
          "output_type": "display_data",
          "data": {
            "text/html": [
              "39"
            ],
            "text/markdown": "39",
            "text/latex": "39",
            "text/plain": [
              "[1] 39"
            ]
          },
          "metadata": {}
        }
      ]
    },
    {
      "cell_type": "code",
      "source": [
        "#Australia\n",
        "      #Since '0' has occured most no of times we consider replacing NA values with it \n",
        "      \n",
        "      table(DataOnSample$Australia)\n",
        "      sum(is.na(DataOnSample$Australia))\n",
        "      a9<-DataOnSample$Australia\n",
        "      e9<-replace_na(a9,0)\n",
        "      DataOnSample$Australia<-as.factor(e9)"
      ],
      "metadata": {
        "colab": {
          "base_uri": "https://localhost:8080/",
          "height": 86
        },
        "id": "JXfIjQgZTSBb",
        "outputId": "461a6244-969c-4c34-f2ae-096e86003c83"
      },
      "execution_count": null,
      "outputs": [
        {
          "output_type": "display_data",
          "data": {
            "text/plain": [
              "\n",
              "   0    1 \n",
              "5771   10 "
            ]
          },
          "metadata": {}
        },
        {
          "output_type": "display_data",
          "data": {
            "text/html": [
              "39"
            ],
            "text/markdown": "39",
            "text/latex": "39",
            "text/plain": [
              "[1] 39"
            ]
          },
          "metadata": {}
        }
      ]
    },
    {
      "cell_type": "code",
      "source": [
        "  #India\n",
        "      #Since '0' has occured most no of times we consider replacing NA values with it \n",
        "      \n",
        "      table(DataOnSample$India)\n",
        "      sum(is.na(DataOnSample$India))\n",
        "      a10<-DataOnSample$India\n",
        "      e10<-replace_na(a10,0)\n",
        "      DataOnSample$India<-as.factor(e10)"
      ],
      "metadata": {
        "colab": {
          "base_uri": "https://localhost:8080/",
          "height": 86
        },
        "id": "p-QtTv1lTUHx",
        "outputId": "0fafcea4-bbce-480e-d41b-1c6c65bcebfd"
      },
      "execution_count": null,
      "outputs": [
        {
          "output_type": "display_data",
          "data": {
            "text/plain": [
              "\n",
              "   0    1 \n",
              "1840 3941 "
            ]
          },
          "metadata": {}
        },
        {
          "output_type": "display_data",
          "data": {
            "text/html": [
              "39"
            ],
            "text/markdown": "39",
            "text/latex": "39",
            "text/plain": [
              "[1] 39"
            ]
          },
          "metadata": {}
        }
      ]
    },
    {
      "cell_type": "code",
      "source": [
        " #QtyRequired\n",
        "      #No Outliers\n",
        "      \n",
        "      table(DataOnSample$QtyRequired)\n",
        "      sum(is.na(DataOnSample$QtyRequired))\n",
        "      \n",
        "      #item name\n",
        "      table(DataOnSample$ITEM_NAME)\n",
        "      sum(is.na(DataOnSample$ITEM_NAME))\n",
        "      "
      ],
      "metadata": {
        "colab": {
          "base_uri": "https://localhost:8080/",
          "height": 295
        },
        "id": "X6O2TmQmTVam",
        "outputId": "89ed51b8-a4ec-4d8c-cca6-2d4d3b49156b"
      },
      "execution_count": null,
      "outputs": [
        {
          "output_type": "display_data",
          "data": {
            "text/plain": [
              "\n",
              "   1    2    3    4    5    6    7    8    9   10   11   12   13   14   15   16 \n",
              "4372  816  244  144   44   24   15   12   10   39    5   14    3    1    7    4 \n",
              "  17   18   20   21   22   24   25   26   27   28   30   32   35   38   40   45 \n",
              "   1    1    7    1    1    2   12    3    3    2    4    4    5    1    1    1 \n",
              "  50   52   55   64  108  136  137  158  200 \n",
              "   8    1    2    1    1    1    1    1    1 "
            ]
          },
          "metadata": {}
        },
        {
          "output_type": "display_data",
          "data": {
            "text/html": [
              "0"
            ],
            "text/markdown": "0",
            "text/latex": "0",
            "text/plain": [
              "[1] 0"
            ]
          },
          "metadata": {}
        },
        {
          "output_type": "display_data",
          "data": {
            "text/plain": [
              "\n",
              "        DOUBLE BACK               DURRY          GUN TUFTED         HAND TUFTED \n",
              "                554                1563                  37                2425 \n",
              "           HANDLOOM           HANDWOVEN       INDO-TIBBETAN            JACQUARD \n",
              "                103                 705                   3                  84 \n",
              "            KNOTTED POWER LOOM JACQUARD        TABLE TUFTED \n",
              "                217                  99                  30 "
            ]
          },
          "metadata": {}
        },
        {
          "output_type": "display_data",
          "data": {
            "text/html": [
              "0"
            ],
            "text/markdown": "0",
            "text/latex": "0",
            "text/plain": [
              "[1] 0"
            ]
          },
          "metadata": {}
        }
      ]
    },
    {
      "cell_type": "code",
      "source": [
        "\n",
        "      #Hand Tufted\n",
        "      table(DataOnSample$`Hand Tufted`)\n",
        "      sum(is.na(DataOnSample$`Hand Tufted`))\n",
        "      \n",
        "      #Durry\n",
        "      table(DataOnSample$Durry)\n",
        "      sum(is.na(DataOnSample$Durry))\n",
        "      \n",
        "      #Double back\n",
        "      table(DataOnSample$`Double Back`)\n",
        "      sum(is.na(DataOnSample$`Double Back`))\n",
        "      \n",
        "      #Hand Woven\n",
        "      table(DataOnSample$`Hand Woven`)\n",
        "      sum(is.na(DataOnSample$`Hand Woven`))\n",
        "      \n",
        "      #Knotted\n",
        "      table(DataOnSample$Knotted)\n",
        "      sum(is.na(DataOnSample$Knotted))\n",
        "      \n",
        "      #Jacquard\n",
        "      table(DataOnSample$Jacquard)\n",
        "      sum(is.na(DataOnSample$Jacquard))\n",
        "      \n",
        "      #Handloom\n",
        "      table(DataOnSample$Handloom)\n",
        "      sum(is.na(DataOnSample$Handloom))\n",
        "      \n",
        "      #Other\n",
        "      table(DataOnSample$Other)\n",
        "      sum(is.na(DataOnSample$Other))\n",
        "      \n",
        "      #Shape Name\n",
        "      table(DataOnSample$ShapeName)\n",
        "      sum(is.na(DataOnSample$ShapeName))\n",
        "      \n",
        "      #REC\n",
        "      table(DataOnSample$REC)\n",
        "      sum(is.na(DataOnSample$REC))\n",
        "      \n",
        "      #Round\n",
        "      table(DataOnSample$Round)\n",
        "      sum(is.na(DataOnSample$Round))\n",
        "      \n",
        "      #square\n",
        "      table(DataOnSample$Square)\n",
        "      sum(is.na(DataOnSample$Square))\n",
        "      \n",
        "      #areaft\n",
        "      table(DataOnSample$AreaFt)\n",
        "      sum(is.na(DataOnSample$AreaFt))\n",
        "      \n",
        "      #Order Conversion\n",
        "      table(DataOnSample$`Order Conversion`)\n",
        "      sum(is.na(DataOnSample$`Order Conversion`))\n",
        "      "
      ],
      "metadata": {
        "colab": {
          "base_uri": "https://localhost:8080/",
          "height": 1000
        },
        "id": "QsEGIuibTY0_",
        "outputId": "1f9830ee-90ab-440e-c786-245ba6e2a4f0"
      },
      "execution_count": null,
      "outputs": [
        {
          "output_type": "display_data",
          "data": {
            "text/plain": [
              "\n",
              "   0    1 \n",
              "3395 2425 "
            ]
          },
          "metadata": {}
        },
        {
          "output_type": "display_data",
          "data": {
            "text/html": [
              "0"
            ],
            "text/markdown": "0",
            "text/latex": "0",
            "text/plain": [
              "[1] 0"
            ]
          },
          "metadata": {}
        },
        {
          "output_type": "display_data",
          "data": {
            "text/plain": [
              "\n",
              "   0    1 \n",
              "4257 1563 "
            ]
          },
          "metadata": {}
        },
        {
          "output_type": "display_data",
          "data": {
            "text/html": [
              "0"
            ],
            "text/markdown": "0",
            "text/latex": "0",
            "text/plain": [
              "[1] 0"
            ]
          },
          "metadata": {}
        },
        {
          "output_type": "display_data",
          "data": {
            "text/plain": [
              "\n",
              "   0    1 \n",
              "5266  554 "
            ]
          },
          "metadata": {}
        },
        {
          "output_type": "display_data",
          "data": {
            "text/html": [
              "0"
            ],
            "text/markdown": "0",
            "text/latex": "0",
            "text/plain": [
              "[1] 0"
            ]
          },
          "metadata": {}
        },
        {
          "output_type": "display_data",
          "data": {
            "text/plain": [
              "\n",
              "   0    1 \n",
              "5115  705 "
            ]
          },
          "metadata": {}
        },
        {
          "output_type": "display_data",
          "data": {
            "text/html": [
              "0"
            ],
            "text/markdown": "0",
            "text/latex": "0",
            "text/plain": [
              "[1] 0"
            ]
          },
          "metadata": {}
        },
        {
          "output_type": "display_data",
          "data": {
            "text/plain": [
              "\n",
              "   0    1 \n",
              "5603  217 "
            ]
          },
          "metadata": {}
        },
        {
          "output_type": "display_data",
          "data": {
            "text/html": [
              "0"
            ],
            "text/markdown": "0",
            "text/latex": "0",
            "text/plain": [
              "[1] 0"
            ]
          },
          "metadata": {}
        },
        {
          "output_type": "display_data",
          "data": {
            "text/plain": [
              "\n",
              "   0    1 \n",
              "5736   84 "
            ]
          },
          "metadata": {}
        },
        {
          "output_type": "display_data",
          "data": {
            "text/html": [
              "0"
            ],
            "text/markdown": "0",
            "text/latex": "0",
            "text/plain": [
              "[1] 0"
            ]
          },
          "metadata": {}
        },
        {
          "output_type": "display_data",
          "data": {
            "text/plain": [
              "\n",
              "   0    1 \n",
              "5717  103 "
            ]
          },
          "metadata": {}
        },
        {
          "output_type": "display_data",
          "data": {
            "text/html": [
              "0"
            ],
            "text/markdown": "0",
            "text/latex": "0",
            "text/plain": [
              "[1] 0"
            ]
          },
          "metadata": {}
        },
        {
          "output_type": "display_data",
          "data": {
            "text/plain": [
              "\n",
              "   0    1 \n",
              "5651  169 "
            ]
          },
          "metadata": {}
        },
        {
          "output_type": "display_data",
          "data": {
            "text/html": [
              "0"
            ],
            "text/markdown": "0",
            "text/latex": "0",
            "text/plain": [
              "[1] 0"
            ]
          },
          "metadata": {}
        },
        {
          "output_type": "display_data",
          "data": {
            "text/plain": [
              "\n",
              "   REC  ROUND SQUARE \n",
              "  5741     57     22 "
            ]
          },
          "metadata": {}
        },
        {
          "output_type": "display_data",
          "data": {
            "text/html": [
              "0"
            ],
            "text/markdown": "0",
            "text/latex": "0",
            "text/plain": [
              "[1] 0"
            ]
          },
          "metadata": {}
        },
        {
          "output_type": "display_data",
          "data": {
            "text/plain": [
              "\n",
              "   0    1 \n",
              "  79 5741 "
            ]
          },
          "metadata": {}
        },
        {
          "output_type": "display_data",
          "data": {
            "text/html": [
              "0"
            ],
            "text/markdown": "0",
            "text/latex": "0",
            "text/plain": [
              "[1] 0"
            ]
          },
          "metadata": {}
        },
        {
          "output_type": "display_data",
          "data": {
            "text/plain": [
              "\n",
              "   0    1 \n",
              "5763   57 "
            ]
          },
          "metadata": {}
        },
        {
          "output_type": "display_data",
          "data": {
            "text/html": [
              "0"
            ],
            "text/markdown": "0",
            "text/latex": "0",
            "text/plain": [
              "[1] 0"
            ]
          },
          "metadata": {}
        },
        {
          "output_type": "display_data",
          "data": {
            "text/plain": [
              "\n",
              "   0    1 \n",
              "5798   22 "
            ]
          },
          "metadata": {}
        },
        {
          "output_type": "display_data",
          "data": {
            "text/html": [
              "0"
            ],
            "text/markdown": "0",
            "text/latex": "0",
            "text/plain": [
              "[1] 0"
            ]
          },
          "metadata": {}
        },
        {
          "output_type": "display_data",
          "data": {
            "text/plain": [
              "\n",
              "  0.6667   0.6944    0.875   0.9444        1   1.1736   1.3333   1.3611 \n",
              "      10       15        2        3       91        1        1        1 \n",
              "  1.3889   1.4167      1.5   1.5625   1.5833    1.625   1.7153   1.7778 \n",
              "      15       15       58       16       19        2       19       13 \n",
              "  1.8958   1.9444        2   2.2222     2.25   2.4444   2.6042   2.7778 \n",
              "       2       14       95        4       36        3        1       26 \n",
              "       3   3.0625   3.3611   3.5417     3.75        4   4.1667   4.3056 \n",
              "      14        1        6       19       74      658        5       35 \n",
              "  4.5833        5   5.0625     5.25   5.3333        6     6.25   6.6736 \n",
              "       1       25        5        4        1      962        4        3 \n",
              "       7   7.2222      7.5        8    8.125   8.3333   8.4375     8.75 \n",
              "       7       21        2        5       10        1      343       36 \n",
              "       9   9.1667   9.3333    9.375   9.6875       10  10.1181     10.5 \n",
              "      47        6        1        2        2       99       35        3 \n",
              " 10.5625       11  11.1667       12     12.5  12.8333       13  13.3333 \n",
              "      10        4        3        5        1        1        1        5 \n",
              "    13.5       14       15  15.3333    15.75       16  16.3333  16.6736 \n",
              "       1        8      194        3        3       25        2        2 \n",
              "    17.5   17.875       18  18.0833  18.2778    19.25  19.6875       20 \n",
              "      14        1        1        1        6       11        4       81 \n",
              " 21.8681  22.3125  22.3333     22.5       24    24.75       25  25.3958 \n",
              "       1        4        8        6      481        1        8        1 \n",
              "      26  27.9792  29.8056  29.9722       30  30.1736  34.4167       35 \n",
              "       2        3        2       35        2        6        1      187 \n",
              " 35.4375       36  36.6667    36.75   39.375  39.8125       40  42.3403 \n",
              "       1        4        1        2        2      848      609        4 \n",
              " 43.3403  43.7361       45       48       49       54    56.25  60.0625 \n",
              "       1       14        1        1        1       38        1        1 \n",
              " 60.3472  62.5417       64  64.7361   69.125       70    71.25  72.4167 \n",
              "       6        4        1       22        1       12        5        1 \n",
              " 74.4167  77.0278       78       79       80  89.7361  93.2361       94 \n",
              "       3        2        2        1      157        1        3        1 \n",
              "     100 102.8125      108      117 128.6528 133.3333      140      180 \n",
              "       1        1       20        1        2        2        2        3 \n",
              "     224    262.5      480 \n",
              "       1        1        1 "
            ]
          },
          "metadata": {}
        },
        {
          "output_type": "display_data",
          "data": {
            "text/html": [
              "0"
            ],
            "text/markdown": "0",
            "text/latex": "0",
            "text/plain": [
              "[1] 0"
            ]
          },
          "metadata": {}
        },
        {
          "output_type": "display_data",
          "data": {
            "text/plain": [
              "\n",
              "   0    1 \n",
              "4651 1169 "
            ]
          },
          "metadata": {}
        },
        {
          "output_type": "display_data",
          "data": {
            "text/html": [
              "0"
            ],
            "text/markdown": "0",
            "text/latex": "0",
            "text/plain": [
              "[1] 0"
            ]
          },
          "metadata": {}
        }
      ]
    },
    {
      "cell_type": "code",
      "source": [
        "\n",
        "      \n",
        "      #Converting a few variables into factor so that it becomes easier for us to construct models\n",
        "      DataOnSample$ITEM_NAME <- as.factor(DataOnSample$ITEM_NAME)\n",
        "      DataOnSample$`Hand Tufted` <- as.factor(DataOnSample$`Hand Tufted`)\n",
        "      DataOnSample$Durry <- as.factor(DataOnSample$Durry)\n",
        "      DataOnSample$`Hand Woven` <- as.factor(DataOnSample$`Hand Woven`)\n",
        "      DataOnSample$Knotted <- as.factor(DataOnSample$Knotted)\n",
        "      DataOnSample$Jacquard <- as.factor(DataOnSample$Jacquard)\n",
        "      DataOnSample$Handloom <- as.factor(DataOnSample$Handloom)\n",
        "      DataOnSample$Other <- as.factor(DataOnSample$Other)\n",
        "      DataOnSample$ShapeName <- as.factor(DataOnSample$ShapeName)\n",
        "      DataOnSample$REC <- as.factor(DataOnSample$REC)\n",
        "      DataOnSample$Round <- as.factor(DataOnSample$Round)\n",
        "      DataOnSample$Square <- as.factor(DataOnSample$Square)\n",
        "      DataOnSample$`Order Conversion` <- as.factor(DataOnSample$`Order Conversion`)\n",
        "      DataOnSample$`Double Back` <- as.factor(DataOnSample$`Double Back`)"
      ],
      "metadata": {
        "id": "4ZnB7QTkTcFW"
      },
      "execution_count": null,
      "outputs": []
    },
    {
      "cell_type": "code",
      "source": [
        "chisq.test(OrderSample$OrderCategory,OrderSample$OrderType,correct = F)"
      ],
      "metadata": {
        "colab": {
          "base_uri": "https://localhost:8080/",
          "height": 104
        },
        "id": "FaDX_rImTeeM",
        "outputId": "a67a9d41-7869-445f-8006-55b5c3e02011"
      },
      "execution_count": null,
      "outputs": [
        {
          "output_type": "display_data",
          "data": {
            "text/plain": [
              "\n",
              "\tPearson's Chi-squared test\n",
              "\n",
              "data:  OrderSample$OrderCategory and OrderSample$OrderType\n",
              "X-squared = 2807.7, df = 1, p-value < 2.2e-16\n"
            ]
          },
          "metadata": {}
        }
      ]
    },
    {
      "cell_type": "markdown",
      "source": [
        "### **Running the models**\n",
        "We have used Three models for comparison.\n",
        "\n",
        "*   Random Forest\n",
        "*   Decision Trees\n",
        "*   Clustering\n",
        "\n",
        "\n",
        "\n",
        "\n"
      ],
      "metadata": {
        "id": "2vqA3i3YaUN9"
      }
    },
    {
      "cell_type": "code",
      "source": [
        "install.packages(\"randomForest\")       \n",
        "library(\"randomForest\")"
      ],
      "metadata": {
        "colab": {
          "base_uri": "https://localhost:8080/"
        },
        "id": "Tt4c4-6JTrXT",
        "outputId": "afd89d2c-89c5-4ddb-9afb-41a1de718ba1"
      },
      "execution_count": null,
      "outputs": [
        {
          "output_type": "stream",
          "name": "stderr",
          "text": [
            "Installing package into ‘/usr/local/lib/R/site-library’\n",
            "(as ‘lib’ is unspecified)\n",
            "\n",
            "randomForest 4.7-1.1\n",
            "\n",
            "Type rfNews() to see new features/changes/bug fixes.\n",
            "\n",
            "\n",
            "Attaching package: ‘randomForest’\n",
            "\n",
            "\n",
            "The following object is masked from ‘package:dplyr’:\n",
            "\n",
            "    combine\n",
            "\n",
            "\n",
            "The following object is masked from ‘package:ggplot2’:\n",
            "\n",
            "    margin\n",
            "\n",
            "\n"
          ]
        }
      ]
    },
    {
      "cell_type": "code",
      "source": [
        "install.packages(\"varImp\")       \n",
        "library(\"varImp\")"
      ],
      "metadata": {
        "colab": {
          "base_uri": "https://localhost:8080/"
        },
        "id": "5EchkysvT3cR",
        "outputId": "721d1b4f-1ddf-4460-d55e-13cea71d089c"
      },
      "execution_count": null,
      "outputs": [
        {
          "output_type": "stream",
          "name": "stderr",
          "text": [
            "Installing package into ‘/usr/local/lib/R/site-library’\n",
            "(as ‘lib’ is unspecified)\n",
            "\n",
            "also installing the dependencies ‘TH.data’, ‘libcoin’, ‘matrixStats’, ‘multcomp’, ‘mvtnorm’, ‘modeltools’, ‘strucchange’, ‘coin’, ‘zoo’, ‘sandwich’, ‘measures’, ‘party’\n",
            "\n",
            "\n",
            "Loading required package: measures\n",
            "\n",
            "Loading required package: party\n",
            "\n",
            "Loading required package: grid\n",
            "\n",
            "Loading required package: mvtnorm\n",
            "\n",
            "Loading required package: modeltools\n",
            "\n",
            "Loading required package: stats4\n",
            "\n",
            "Loading required package: strucchange\n",
            "\n",
            "Loading required package: zoo\n",
            "\n",
            "\n",
            "Attaching package: ‘zoo’\n",
            "\n",
            "\n",
            "The following objects are masked from ‘package:base’:\n",
            "\n",
            "    as.Date, as.Date.numeric\n",
            "\n",
            "\n",
            "Loading required package: sandwich\n",
            "\n",
            "\n",
            "Attaching package: ‘strucchange’\n",
            "\n",
            "\n",
            "The following object is masked from ‘package:stringr’:\n",
            "\n",
            "    boundary\n",
            "\n",
            "\n"
          ]
        }
      ]
    },
    {
      "cell_type": "code",
      "source": [
        "install.packages(\"caret\")       \n",
        "library(\"caret\")"
      ],
      "metadata": {
        "colab": {
          "base_uri": "https://localhost:8080/"
        },
        "id": "PGWcUcuXT_B6",
        "outputId": "d0a5e870-8fcd-4682-eb87-e2a6148be53a"
      },
      "execution_count": null,
      "outputs": [
        {
          "output_type": "stream",
          "name": "stderr",
          "text": [
            "Installing package into ‘/usr/local/lib/R/site-library’\n",
            "(as ‘lib’ is unspecified)\n",
            "\n",
            "also installing the dependency ‘recipes’\n",
            "\n",
            "\n",
            "Loading required package: lattice\n",
            "\n",
            "\n",
            "Attaching package: ‘caret’\n",
            "\n",
            "\n",
            "The following object is masked from ‘package:varImp’:\n",
            "\n",
            "    varImp\n",
            "\n",
            "\n",
            "The following objects are masked from ‘package:measures’:\n",
            "\n",
            "    MAE, RMSE\n",
            "\n",
            "\n",
            "The following object is masked from ‘package:purrr’:\n",
            "\n",
            "    lift\n",
            "\n",
            "\n"
          ]
        }
      ]
    },
    {
      "cell_type": "code",
      "source": [
        "install.packages(\"ISLR\")       \n",
        "library(\"ISLR\")\n",
        "install.packages(\"rpart\")       \n",
        "library(\"rpart\")"
      ],
      "metadata": {
        "colab": {
          "base_uri": "https://localhost:8080/"
        },
        "id": "YMmhaGZNVpoA",
        "outputId": "9928bf1b-2411-47fe-9567-bca0edb535f5"
      },
      "execution_count": null,
      "outputs": [
        {
          "output_type": "stream",
          "name": "stderr",
          "text": [
            "Installing package into ‘/usr/local/lib/R/site-library’\n",
            "(as ‘lib’ is unspecified)\n",
            "\n",
            "Installing package into ‘/usr/local/lib/R/site-library’\n",
            "(as ‘lib’ is unspecified)\n",
            "\n"
          ]
        }
      ]
    },
    {
      "cell_type": "code",
      "source": [
        "library(randomForest)\n",
        "library(varImp)\n",
        "library(caret)"
      ],
      "metadata": {
        "id": "VvyWjpyATozW"
      },
      "execution_count": null,
      "outputs": []
    },
    {
      "cell_type": "code",
      "source": [
        "####Decision Tree for DataonSample####\n",
        "      set.seed(122)\n",
        "      library(ISLR)\n",
        "      data(DataOnSample)\n",
        "      indx <- sample(2,nrow(DataOnSample),replace = TRUE,prob=c(0.7,0.3))\n",
        "      train <- DataOnSample[indx==1,]\n",
        "      test <- DataOnSample[indx==2,]\n",
        "      \n",
        "      library(rpart)\n",
        "      library(rpart.plot)\n",
        "      myFormula = `Order Conversion`~.\n",
        "      \n",
        "      \n",
        "      SampleonlyTree<- rpart(myFormula, data = train, control = rpart.control(minsplit = 14, minbucket = 10, maxdepth = 20, cp = 0.011), parms = list(split=\"gini\"))\n",
        "      SampleonlyTree\n",
        "      \n",
        "      #Displaying it better\n",
        "      library(rpart.plot)\n",
        "      rpart.plot(SampleonlyTree)\n",
        "      "
      ],
      "metadata": {
        "colab": {
          "base_uri": "https://localhost:8080/",
          "height": 854
        },
        "id": "u07afFu9UGj6",
        "outputId": "cdf8a0f1-0a29-4a4c-963e-282850f45129"
      },
      "execution_count": null,
      "outputs": [
        {
          "output_type": "stream",
          "name": "stderr",
          "text": [
            "Warning message in data(DataOnSample):\n",
            "“data set ‘DataOnSample’ not found”\n"
          ]
        },
        {
          "output_type": "display_data",
          "data": {
            "text/plain": [
              "n= 4083 \n",
              "\n",
              "node), split, n, loss, yval, (yprob)\n",
              "      * denotes terminal node\n",
              "\n",
              " 1) root 4083 806 0 (0.80259613 0.19740387)  \n",
              "   2) AreaFt< 39.90625 3423 463 0 (0.86473853 0.13526147)  \n",
              "     4) CustomerCode=A-11,A-9,B-2,B-3,C-1,C-2,CC,CTS,F-1,F-2,H-2,I-2,K-2,L-3,L-4,L-5,M-1,M-2,N-1,P-4,P-5,PC,RC,S-3,T-2,T-4,T-5,TGT,V-1 3294 348 0 (0.89435337 0.10564663)  \n",
              "       8) ITEM_NAME=DOUBLE BACK,DURRY,HAND TUFTED,HANDLOOM,HANDWOVEN,JACQUARD 3092 234 0 (0.92432083 0.07567917) *\n",
              "       9) ITEM_NAME=GUN TUFTED,INDO-TIBBETAN,KNOTTED,POWER LOOM JACQUARD,TABLE TUFTED 202  88 1 (0.43564356 0.56435644)  \n",
              "        18) AreaFt< 5.5 58   2 0 (0.96551724 0.03448276) *\n",
              "        19) AreaFt>=5.5 144  32 1 (0.22222222 0.77777778)  \n",
              "          38) CustomerCode=M-1,P-4,P-5,RC,TGT 22   1 0 (0.95454545 0.04545455) *\n",
              "          39) CustomerCode=CC,S-3,T-2 122  11 1 (0.09016393 0.90983607) *\n",
              "     5) CustomerCode=E-2,F-6,JL,PD 129  14 1 (0.10852713 0.89147287) *\n",
              "   3) AreaFt>=39.90625 660 317 1 (0.48030303 0.51969697)  \n",
              "     6) CustomerCode=CC,PC,T-2,T-5 411 133 0 (0.67639903 0.32360097)  \n",
              "      12) ITEM_NAME=DOUBLE BACK,DURRY,HAND TUFTED,HANDLOOM,HANDWOVEN,JACQUARD 365  87 0 (0.76164384 0.23835616)  \n",
              "        24) AreaFt< 79 288  37 0 (0.87152778 0.12847222) *\n",
              "        25) AreaFt>=79 77  27 1 (0.35064935 0.64935065) *\n",
              "      13) ITEM_NAME=GUN TUFTED,KNOTTED,POWER LOOM JACQUARD 46   0 1 (0.00000000 1.00000000) *\n",
              "     7) CustomerCode=A-11,A-9,C-1,C-2,F-1,H-2,I-2,JL,M-1,M-2,N-1,P-4,P-5,PD,S-3,TGT 249  39 1 (0.15662651 0.84337349) *"
            ]
          },
          "metadata": {}
        },
        {
          "output_type": "display_data",
          "data": {
            "text/plain": [
              "plot without title"
            ],
            "image/png": "[encoded data removed]"
          },
          "metadata": {
            "image/png": {
              "width": 420,
              "height": 420
            }
          }
        }
      ]
    },
    {
      "cell_type": "markdown",
      "source": [
        "### We have used Decision tree to identify the important attributes that determine the conversion of samples sent to the customers.\n",
        "\n",
        "From this we find out that the main attributes are \n",
        "Analysis attributes: \n",
        "\n",
        "1.  CustomerCode  \n",
        "2.  QtyRequired  \n",
        "3.  ItemName \n",
        "4.  ShapeName \n",
        "5.  AreaFt \n",
        "6.  OrderConversion (dependent variable) "
      ],
      "metadata": {
        "id": "jgvKofP-h6yg"
      }
    },
    {
      "cell_type": "markdown",
      "source": [
        "### Accuracy of the model is 91.74%."
      ],
      "metadata": {
        "id": "k06P4u4qerK3"
      }
    },
    {
      "cell_type": "code",
      "source": [
        "pacman::p_load(\"pacman\",\"tidyverse\",\"rpart\",\"rpart.plot\",\"readxl\",\"base\")\n",
        "install.packages(\"scales\")   \n",
        "install.packages(\"cluster\")   \n",
        "install.packages(\"factoextra\")   \n",
        "library(scales)\n",
        "library(cluster)\n",
        "library(factoextra)"
      ],
      "metadata": {
        "colab": {
          "base_uri": "https://localhost:8080/"
        },
        "id": "oFomjmZTXBZX",
        "outputId": "accf4b78-6263-4279-ae41-af8c92b2b63d"
      },
      "execution_count": null,
      "outputs": [
        {
          "output_type": "stream",
          "name": "stderr",
          "text": [
            "Installing package into ‘/usr/local/lib/R/site-library’\n",
            "(as ‘lib’ is unspecified)\n",
            "\n",
            "Installing package into ‘/usr/local/lib/R/site-library’\n",
            "(as ‘lib’ is unspecified)\n",
            "\n",
            "Installing package into ‘/usr/local/lib/R/site-library’\n",
            "(as ‘lib’ is unspecified)\n",
            "\n",
            "also installing the dependencies ‘viridis’, ‘car’, ‘rstatix’, ‘dendextend’, ‘FactoMineR’, ‘ggpubr’\n",
            "\n",
            "\n",
            "Welcome! Want to learn more? See two factoextra-related books at https://goo.gl/ve3WBa\n",
            "\n"
          ]
        }
      ]
    },
    {
      "cell_type": "code",
      "source": [
        "#Data for Clustering\n",
        "#DataForClustering <- read_xlsx(\"Champo.xlsx\",sheet = 6)\n",
        "#Checking for NA values in clustering dataset\n",
        "sum(is.na(DataForClustering))\n",
        "summary(DataForClustering)\n",
        "#getting our data \n",
        "head(DataForClustering,n=6)\n",
        "str(DataForClustering)\n",
        "DataForClustering<-na.omit(DataForClustering)\n",
        "#Removing a column\n",
        "namesofrow <- DataForClustering$`Row Labels`\n",
        "rownames(DataForClustering) <- namesofrow\n",
        "DataForClustering <- DataForClustering[,-1]\n",
        "rownames(DataForClustering)<- namesofrow\n",
        "#DataForClustering$`Row Labels` <- as.factor(DataForClustering$`Row Labels`)\n",
        "#Normalizing our instances\n",
        "library(dplyr)\n",
        "myscale <- function(x) {\n",
        "  (x - min(x)) / (max(x) - min(x))\n",
        "}\n",
        "data <- DataForClustering %>% mutate_if(is.numeric, myscale)\n",
        "data\n",
        "#Using the k-means clustering to derive insights\n",
        "library(factoextra)\n",
        "km1 <- kmeans(data, centers = 6, nstart = 100)\n",
        "km1\n",
        "str(km1)\n",
        "      \n"
      ],
      "metadata": {
        "colab": {
          "base_uri": "https://localhost:8080/",
          "height": 1000
        },
        "id": "Q3cnmqylXvp9",
        "outputId": "d9feccce-1b3b-4cde-a404-8c6cc0e2c8a0"
      },
      "execution_count": null,
      "outputs": [
        {
          "output_type": "display_data",
          "data": {
            "text/html": [
              "0"
            ],
            "text/markdown": "0",
            "text/latex": "0",
            "text/plain": [
              "[1] 0"
            ]
          },
          "metadata": {}
        },
        {
          "output_type": "display_data",
          "data": {
            "text/plain": [
              "  Row Labels        Sum of QtyRequired Sum of TotalArea    Sum of Amount     \n",
              " Length:45          Min.   :     2     Min.   :     1.35   Min.   :     329  \n",
              " Class :character   1st Qu.:   565     1st Qu.:   376.77   1st Qu.:   39701  \n",
              " Mode  :character   Median :  1566     Median :  2120.00   Median :  116778  \n",
              "                    Mean   : 12978     Mean   : 13056.59   Mean   :  698210  \n",
              "                    3rd Qu.: 11146     3rd Qu.:  8451.56   3rd Qu.:  426626  \n",
              "                    Max.   :183206     Max.   :209725.22   Max.   :11341053  \n",
              "     DURRY           HANDLOOM       DOUBLE BACK        JACQUARD     \n",
              " Min.   :     0   Min.   :   0.0   Min.   :   0.0   Min.   :  0.00  \n",
              " 1st Qu.:     0   1st Qu.:   0.0   1st Qu.:   0.0   1st Qu.:  0.00  \n",
              " Median :   289   Median :   0.0   Median :   0.0   Median :  0.00  \n",
              " Mean   :  7103   Mean   : 185.5   Mean   : 407.9   Mean   : 89.42  \n",
              " 3rd Qu.:  1560   3rd Qu.:   0.0   3rd Qu.: 175.0   3rd Qu.: 72.00  \n",
              " Max.   :139618   Max.   :3673.0   Max.   :5439.0   Max.   :714.00  \n",
              "  HAND TUFTED      HAND WOVEN         KNOTTED         GUN TUFTED     \n",
              " Min.   :    0   Min.   :    0.0   Min.   :   0.0   Min.   :  0.000  \n",
              " 1st Qu.:    0   1st Qu.:    0.0   1st Qu.:   0.0   1st Qu.:  0.000  \n",
              " Median :  510   Median :    0.0   Median :   0.0   Median :  0.000  \n",
              " Mean   : 3651   Mean   :  867.7   Mean   : 365.8   Mean   :  8.133  \n",
              " 3rd Qu.: 3544   3rd Qu.:  269.0   3rd Qu.:  18.0   3rd Qu.:  0.000  \n",
              " Max.   :60685   Max.   :14314.0   Max.   :9502.0   Max.   :195.000  \n",
              " Powerloom Jacquard  INDO TEBETAN    \n",
              " Min.   :   0.0     Min.   : 0.0000  \n",
              " 1st Qu.:   0.0     1st Qu.: 0.0000  \n",
              " Median :   0.0     Median : 0.0000  \n",
              " Mean   : 216.7     Mean   : 0.7111  \n",
              " 3rd Qu.:   0.0     3rd Qu.: 0.0000  \n",
              " Max.   :9753.0     Max.   :20.0000  "
            ]
          },
          "metadata": {}
        },
        {
          "output_type": "display_data",
          "data": {
            "text/html": [
              "<table class=\"dataframe\">\n",
              "<caption>A tibble: 6 × 14</caption>\n",
              "<thead>\n",
              "\t<tr><th scope=col>Row Labels</th><th scope=col>Sum of QtyRequired</th><th scope=col>Sum of TotalArea</th><th scope=col>Sum of Amount</th><th scope=col>DURRY</th><th scope=col>HANDLOOM</th><th scope=col>DOUBLE BACK</th><th scope=col>JACQUARD</th><th scope=col>HAND TUFTED</th><th scope=col>HAND WOVEN</th><th scope=col>KNOTTED</th><th scope=col>GUN TUFTED</th><th scope=col>Powerloom Jacquard</th><th scope=col>INDO TEBETAN</th></tr>\n",
              "\t<tr><th scope=col>&lt;chr&gt;</th><th scope=col>&lt;dbl&gt;</th><th scope=col>&lt;dbl&gt;</th><th scope=col>&lt;dbl&gt;</th><th scope=col>&lt;dbl&gt;</th><th scope=col>&lt;dbl&gt;</th><th scope=col>&lt;dbl&gt;</th><th scope=col>&lt;dbl&gt;</th><th scope=col>&lt;dbl&gt;</th><th scope=col>&lt;dbl&gt;</th><th scope=col>&lt;dbl&gt;</th><th scope=col>&lt;dbl&gt;</th><th scope=col>&lt;dbl&gt;</th><th scope=col>&lt;dbl&gt;</th></tr>\n",
              "</thead>\n",
              "<tbody>\n",
              "\t<tr><td>A-11</td><td> 2466</td><td>  139.5900</td><td> 185404.10</td><td>1021</td><td>1445</td><td>  0</td><td>  0</td><td>    0</td><td>   0</td><td>  0</td><td>0</td><td>0</td><td>0</td></tr>\n",
              "\t<tr><td>A-6 </td><td>  131</td><td> 2086.0000</td><td>   6247.46</td><td>   0</td><td>   0</td><td> 25</td><td>106</td><td>    0</td><td>   0</td><td>  0</td><td>0</td><td>0</td><td>0</td></tr>\n",
              "\t<tr><td>A-9 </td><td>18923</td><td>53625.6544</td><td>1592079.79</td><td>3585</td><td>   0</td><td>175</td><td>714</td><td>11716</td><td>2116</td><td>617</td><td>0</td><td>0</td><td>0</td></tr>\n",
              "\t<tr><td>B-2 </td><td>  624</td><td>  202.8987</td><td>  14811.16</td><td> 581</td><td>   0</td><td>  0</td><td>  2</td><td>    0</td><td>  41</td><td>  0</td><td>0</td><td>0</td><td>0</td></tr>\n",
              "\t<tr><td>B-3 </td><td>  464</td><td> 8451.5625</td><td>  58626.87</td><td>   0</td><td>   0</td><td>459</td><td>  5</td><td>    0</td><td>   0</td><td>  0</td><td>0</td><td>0</td><td>0</td></tr>\n",
              "\t<tr><td>B-4 </td><td>  692</td><td> 3244.2500</td><td>  26242.50</td><td>  80</td><td> 102</td><td>  0</td><td>  0</td><td>  510</td><td>   0</td><td>  0</td><td>0</td><td>0</td><td>0</td></tr>\n",
              "</tbody>\n",
              "</table>\n"
            ],
            "text/markdown": "\nA tibble: 6 × 14\n\n| Row Labels &lt;chr&gt; | Sum of QtyRequired &lt;dbl&gt; | Sum of TotalArea &lt;dbl&gt; | Sum of Amount &lt;dbl&gt; | DURRY &lt;dbl&gt; | HANDLOOM &lt;dbl&gt; | DOUBLE BACK &lt;dbl&gt; | JACQUARD &lt;dbl&gt; | HAND TUFTED &lt;dbl&gt; | HAND WOVEN &lt;dbl&gt; | KNOTTED &lt;dbl&gt; | GUN TUFTED &lt;dbl&gt; | Powerloom Jacquard &lt;dbl&gt; | INDO TEBETAN &lt;dbl&gt; |\n|---|---|---|---|---|---|---|---|---|---|---|---|---|---|\n| A-11 |  2466 |   139.5900 |  185404.10 | 1021 | 1445 |   0 |   0 |     0 |    0 |   0 | 0 | 0 | 0 |\n| A-6  |   131 |  2086.0000 |    6247.46 |    0 |    0 |  25 | 106 |     0 |    0 |   0 | 0 | 0 | 0 |\n| A-9  | 18923 | 53625.6544 | 1592079.79 | 3585 |    0 | 175 | 714 | 11716 | 2116 | 617 | 0 | 0 | 0 |\n| B-2  |   624 |   202.8987 |   14811.16 |  581 |    0 |   0 |   2 |     0 |   41 |   0 | 0 | 0 | 0 |\n| B-3  |   464 |  8451.5625 |   58626.87 |    0 |    0 | 459 |   5 |     0 |    0 |   0 | 0 | 0 | 0 |\n| B-4  |   692 |  3244.2500 |   26242.50 |   80 |  102 |   0 |   0 |   510 |    0 |   0 | 0 | 0 | 0 |\n\n",
            "text/latex": "A tibble: 6 × 14\n\\begin{tabular}{llllllllllllll}\n Row Labels & Sum of QtyRequired & Sum of TotalArea & Sum of Amount & DURRY & HANDLOOM & DOUBLE BACK & JACQUARD & HAND TUFTED & HAND WOVEN & KNOTTED & GUN TUFTED & Powerloom Jacquard & INDO TEBETAN\\\\\n <chr> & <dbl> & <dbl> & <dbl> & <dbl> & <dbl> & <dbl> & <dbl> & <dbl> & <dbl> & <dbl> & <dbl> & <dbl> & <dbl>\\\\\n\\hline\n\t A-11 &  2466 &   139.5900 &  185404.10 & 1021 & 1445 &   0 &   0 &     0 &    0 &   0 & 0 & 0 & 0\\\\\n\t A-6  &   131 &  2086.0000 &    6247.46 &    0 &    0 &  25 & 106 &     0 &    0 &   0 & 0 & 0 & 0\\\\\n\t A-9  & 18923 & 53625.6544 & 1592079.79 & 3585 &    0 & 175 & 714 & 11716 & 2116 & 617 & 0 & 0 & 0\\\\\n\t B-2  &   624 &   202.8987 &   14811.16 &  581 &    0 &   0 &   2 &     0 &   41 &   0 & 0 & 0 & 0\\\\\n\t B-3  &   464 &  8451.5625 &   58626.87 &    0 &    0 & 459 &   5 &     0 &    0 &   0 & 0 & 0 & 0\\\\\n\t B-4  &   692 &  3244.2500 &   26242.50 &   80 &  102 &   0 &   0 &   510 &    0 &   0 & 0 & 0 & 0\\\\\n\\end{tabular}\n",
            "text/plain": [
              "  Row Labels Sum of QtyRequired Sum of TotalArea Sum of Amount DURRY HANDLOOM\n",
              "1 A-11        2466                139.5900        185404.10    1021  1445    \n",
              "2 A-6          131               2086.0000          6247.46       0     0    \n",
              "3 A-9        18923              53625.6544       1592079.79    3585     0    \n",
              "4 B-2          624                202.8987         14811.16     581     0    \n",
              "5 B-3          464               8451.5625         58626.87       0     0    \n",
              "6 B-4          692               3244.2500         26242.50      80   102    \n",
              "  DOUBLE BACK JACQUARD HAND TUFTED HAND WOVEN KNOTTED GUN TUFTED\n",
              "1   0           0          0          0         0     0         \n",
              "2  25         106          0          0         0     0         \n",
              "3 175         714      11716       2116       617     0         \n",
              "4   0           2          0         41         0     0         \n",
              "5 459           5          0          0         0     0         \n",
              "6   0           0        510          0         0     0         \n",
              "  Powerloom Jacquard INDO TEBETAN\n",
              "1 0                  0           \n",
              "2 0                  0           \n",
              "3 0                  0           \n",
              "4 0                  0           \n",
              "5 0                  0           \n",
              "6 0                  0           "
            ]
          },
          "metadata": {}
        },
        {
          "output_type": "stream",
          "name": "stdout",
          "text": [
            "tibble [45 × 14] (S3: tbl_df/tbl/data.frame)\n",
            " $ Row Labels        : chr [1:45] \"A-11\" \"A-6\" \"A-9\" \"B-2\" ...\n",
            " $ Sum of QtyRequired: num [1:45] 2466 131 18923 624 464 ...\n",
            " $ Sum of TotalArea  : num [1:45] 140 2086 53626 203 8452 ...\n",
            " $ Sum of Amount     : num [1:45] 185404 6247 1592080 14811 58627 ...\n",
            " $ DURRY             : num [1:45] 1021 0 3585 581 0 ...\n",
            " $ HANDLOOM          : num [1:45] 1445 0 0 0 0 ...\n",
            " $ DOUBLE BACK       : num [1:45] 0 25 175 0 459 0 0 0 0 3 ...\n",
            " $ JACQUARD          : num [1:45] 0 106 714 2 5 0 0 0 0 0 ...\n",
            " $ HAND TUFTED       : num [1:45] 0 0 11716 0 0 ...\n",
            " $ HAND WOVEN        : num [1:45] 0 0 2116 41 0 ...\n",
            " $ KNOTTED           : num [1:45] 0 0 617 0 0 0 453 0 0 0 ...\n",
            " $ GUN TUFTED        : num [1:45] 0 0 0 0 0 0 0 0 0 19 ...\n",
            " $ Powerloom Jacquard: num [1:45] 0 0 0 0 0 0 0 0 0 0 ...\n",
            " $ INDO TEBETAN      : num [1:45] 0 0 0 0 0 0 0 0 0 0 ...\n"
          ]
        },
        {
          "output_type": "stream",
          "name": "stderr",
          "text": [
            "Warning message:\n",
            "“Setting row names on a tibble is deprecated.”\n",
            "Warning message:\n",
            "“Setting row names on a tibble is deprecated.”\n"
          ]
        },
        {
          "output_type": "display_data",
          "data": {
            "text/html": [
              "<table class=\"dataframe\">\n",
              "<caption>A tibble: 45 × 13</caption>\n",
              "<thead>\n",
              "\t<tr><th scope=col>Sum of QtyRequired</th><th scope=col>Sum of TotalArea</th><th scope=col>Sum of Amount</th><th scope=col>DURRY</th><th scope=col>HANDLOOM</th><th scope=col>DOUBLE BACK</th><th scope=col>JACQUARD</th><th scope=col>HAND TUFTED</th><th scope=col>HAND WOVEN</th><th scope=col>KNOTTED</th><th scope=col>GUN TUFTED</th><th scope=col>Powerloom Jacquard</th><th scope=col>INDO TEBETAN</th></tr>\n",
              "\t<tr><th scope=col>&lt;dbl&gt;</th><th scope=col>&lt;dbl&gt;</th><th scope=col>&lt;dbl&gt;</th><th scope=col>&lt;dbl&gt;</th><th scope=col>&lt;dbl&gt;</th><th scope=col>&lt;dbl&gt;</th><th scope=col>&lt;dbl&gt;</th><th scope=col>&lt;dbl&gt;</th><th scope=col>&lt;dbl&gt;</th><th scope=col>&lt;dbl&gt;</th><th scope=col>&lt;dbl&gt;</th><th scope=col>&lt;dbl&gt;</th><th scope=col>&lt;dbl&gt;</th></tr>\n",
              "</thead>\n",
              "<tbody>\n",
              "\t<tr><td>1.344949e-02</td><td>6.591524e-04</td><td>1.631953e-02</td><td>0.0073128107</td><td>0.39341138</td><td>0.000000000</td><td>0.000000000</td><td>0.000000000</td><td>0.000000e+00</td><td>0.000000000</td><td>0.0000000</td><td>0</td><td>0.0</td></tr>\n",
              "\t<tr><td>7.041331e-04</td><td>9.939975e-03</td><td>5.218878e-04</td><td>0.0000000000</td><td>0.00000000</td><td>0.004596433</td><td>0.148459384</td><td>0.000000000</td><td>0.000000e+00</td><td>0.000000000</td><td>0.0000000</td><td>0</td><td>0.0</td></tr>\n",
              "\t<tr><td>1.032783e-01</td><td>2.556900e-01</td><td>1.403571e-01</td><td>0.0256772049</td><td>0.00000000</td><td>0.032175032</td><td>1.000000000</td><td>0.193062536</td><td>1.478273e-01</td><td>0.064933698</td><td>0.0000000</td><td>0</td><td>0.0</td></tr>\n",
              "\t<tr><td>3.395122e-03</td><td>9.610194e-04</td><td>1.277016e-03</td><td>0.0041613546</td><td>0.00000000</td><td>0.000000000</td><td>0.002801120</td><td>0.000000000</td><td>2.864329e-03</td><td>0.000000000</td><td>0.0000000</td><td>0</td><td>0.0</td></tr>\n",
              "\t<tr><td>2.521779e-03</td><td>4.029209e-02</td><td>5.140588e-03</td><td>0.0000000000</td><td>0.00000000</td><td>0.084390513</td><td>0.007002801</td><td>0.000000000</td><td>0.000000e+00</td><td>0.000000000</td><td>0.0000000</td><td>0</td><td>0.0</td></tr>\n",
              "\t<tr><td>3.766293e-03</td><td>1.546271e-02</td><td>2.285006e-03</td><td>0.0005729920</td><td>0.02777022</td><td>0.000000000</td><td>0.000000000</td><td>0.008404054</td><td>0.000000e+00</td><td>0.000000000</td><td>0.0000000</td><td>0</td><td>0.0</td></tr>\n",
              "\t<tr><td>2.802886e-02</td><td>2.992588e-01</td><td>5.002254e-02</td><td>0.0020627713</td><td>0.00000000</td><td>0.000000000</td><td>0.000000000</td><td>0.068814369</td><td>1.536957e-02</td><td>0.047674174</td><td>0.0000000</td><td>0</td><td>0.0</td></tr>\n",
              "\t<tr><td>3.011397e-01</td><td>4.533890e-02</td><td>1.372747e-01</td><td>0.2653096306</td><td>0.00000000</td><td>0.000000000</td><td>0.000000000</td><td>0.062882096</td><td>1.000000e+00</td><td>0.000000000</td><td>0.0000000</td><td>0</td><td>0.0</td></tr>\n",
              "\t<tr><td>8.536932e-03</td><td>1.914255e-02</td><td>8.706100e-03</td><td>0.0088813763</td><td>0.00000000</td><td>0.000000000</td><td>0.000000000</td><td>0.005372003</td><td>0.000000e+00</td><td>0.000000000</td><td>0.0000000</td><td>0</td><td>0.0</td></tr>\n",
              "\t<tr><td>2.770136e-02</td><td>3.668940e-02</td><td>1.298375e-02</td><td>0.0000286496</td><td>0.00816771</td><td>0.000551572</td><td>0.000000000</td><td>0.082738733</td><td>0.000000e+00</td><td>0.000000000</td><td>0.0974359</td><td>0</td><td>0.0</td></tr>\n",
              "\t<tr><td>3.073077e-03</td><td>1.996196e-03</td><td>2.069632e-03</td><td>0.0000000000</td><td>0.00000000</td><td>0.000000000</td><td>0.000000000</td><td>0.009310373</td><td>0.000000e+00</td><td>0.000000000</td><td>0.0000000</td><td>0</td><td>0.0</td></tr>\n",
              "\t<tr><td>8.023842e-04</td><td>1.452512e-03</td><td>2.497128e-03</td><td>0.0000000000</td><td>0.00000000</td><td>0.002941717</td><td>0.008403361</td><td>0.000214221</td><td>0.000000e+00</td><td>0.011997474</td><td>0.0000000</td><td>0</td><td>0.0</td></tr>\n",
              "\t<tr><td>3.160411e-03</td><td>9.000716e-02</td><td>1.026825e-02</td><td>0.0000931112</td><td>0.00000000</td><td>0.063982350</td><td>0.211484594</td><td>0.000000000</td><td>3.562945e-03</td><td>0.001894338</td><td>0.0000000</td><td>0</td><td>0.0</td></tr>\n",
              "\t<tr><td>6.309906e-03</td><td>1.344935e-02</td><td>1.027354e-02</td><td>0.0020627713</td><td>0.00000000</td><td>0.011766869</td><td>0.000000000</td><td>0.013281701</td><td>0.000000e+00</td><td>0.000000000</td><td>0.0000000</td><td>0</td><td>0.0</td></tr>\n",
              "\t<tr><td>7.630838e-03</td><td>0.000000e+00</td><td>1.452387e-03</td><td>0.0100273604</td><td>0.00000000</td><td>0.000000000</td><td>0.000000000</td><td>0.000000000</td><td>0.000000e+00</td><td>0.000000000</td><td>0.0000000</td><td>0</td><td>0.0</td></tr>\n",
              "\t<tr><td>7.860090e-04</td><td>2.549376e-02</td><td>3.471768e-03</td><td>0.0000000000</td><td>0.00000000</td><td>0.009560581</td><td>0.095238095</td><td>0.000000000</td><td>1.816404e-03</td><td>0.000000000</td><td>0.0000000</td><td>0</td><td>0.0</td></tr>\n",
              "\t<tr><td>6.386323e-04</td><td>9.815382e-05</td><td>0.000000e+00</td><td>0.0008523256</td><td>0.00000000</td><td>0.000000000</td><td>0.000000000</td><td>0.000000000</td><td>0.000000e+00</td><td>0.000000000</td><td>0.0000000</td><td>0</td><td>0.0</td></tr>\n",
              "\t<tr><td>6.195280e-03</td><td>4.446662e-02</td><td>5.736399e-03</td><td>0.0002793336</td><td>0.00000000</td><td>0.000000000</td><td>0.000000000</td><td>0.017747384</td><td>1.257510e-03</td><td>0.000000000</td><td>0.0000000</td><td>0</td><td>0.0</td></tr>\n",
              "\t<tr><td>1.000000e+00</td><td>9.299869e-02</td><td>3.354700e-01</td><td>1.0000000000</td><td>1.00000000</td><td>0.000000000</td><td>0.770308123</td><td>0.438526819</td><td>2.095850e-01</td><td>0.000000000</td><td>0.0000000</td><td>1</td><td>0.0</td></tr>\n",
              "\t<tr><td>4.093251e-02</td><td>7.186983e-03</td><td>3.758994e-02</td><td>0.0070048275</td><td>0.21453852</td><td>0.075381504</td><td>0.638655462</td><td>0.060262009</td><td>7.866424e-02</td><td>0.005893496</td><td>0.1538462</td><td>0</td><td>0.0</td></tr>\n",
              "\t<tr><td>1.029399e-01</td><td>1.420582e-02</td><td>1.085689e-01</td><td>0.0380323454</td><td>0.00000000</td><td>0.657289943</td><td>0.323529412</td><td>0.058399934</td><td>3.569932e-01</td><td>0.107977268</td><td>0.0000000</td><td>0</td><td>0.0</td></tr>\n",
              "\t<tr><td>2.379861e-03</td><td>1.836095e-02</td><td>5.250846e-03</td><td>0.0025641393</td><td>0.00000000</td><td>0.000000000</td><td>0.000000000</td><td>0.000000000</td><td>0.000000e+00</td><td>0.008419280</td><td>0.0000000</td><td>0</td><td>0.0</td></tr>\n",
              "\t<tr><td>5.458396e-06</td><td>3.781954e-04</td><td>7.153362e-06</td><td>0.0000000000</td><td>0.00000000</td><td>0.000551572</td><td>0.000000000</td><td>0.000000000</td><td>0.000000e+00</td><td>0.000000000</td><td>0.0000000</td><td>0</td><td>0.0</td></tr>\n",
              "\t<tr><td>1.697561e-03</td><td>3.842672e-04</td><td>1.867131e-03</td><td>0.0000000000</td><td>0.00000000</td><td>0.029417172</td><td>0.000000000</td><td>0.002521216</td><td>0.000000e+00</td><td>0.000000000</td><td>0.0000000</td><td>0</td><td>0.0</td></tr>\n",
              "\t<tr><td>4.137464e-03</td><td>8.199591e-03</td><td>7.973731e-03</td><td>0.0000000000</td><td>0.00000000</td><td>0.000000000</td><td>0.000000000</td><td>0.012523688</td><td>0.000000e+00</td><td>0.000000000</td><td>0.0000000</td><td>0</td><td>0.0</td></tr>\n",
              "\t<tr><td>4.224799e-03</td><td>2.865673e-05</td><td>3.871457e-03</td><td>0.0055580226</td><td>0.00000000</td><td>0.000000000</td><td>0.000000000</td><td>0.000000000</td><td>0.000000e+00</td><td>0.000000000</td><td>0.0000000</td><td>0</td><td>0.0</td></tr>\n",
              "\t<tr><td>1.410340e-01</td><td>9.948796e-04</td><td>3.161713e-02</td><td>0.1850764228</td><td>0.00000000</td><td>0.000000000</td><td>0.000000000</td><td>0.000000000</td><td>0.000000e+00</td><td>0.000000000</td><td>0.0000000</td><td>0</td><td>0.0</td></tr>\n",
              "\t<tr><td>9.086592e-02</td><td>1.000000e+00</td><td>1.727813e-01</td><td>0.0029509089</td><td>0.29539886</td><td>1.000000000</td><td>0.084033613</td><td>0.044442613</td><td>2.155233e-01</td><td>0.381603873</td><td>1.0000000</td><td>0</td><td>0.0</td></tr>\n",
              "\t<tr><td>3.779393e-02</td><td>3.909448e-02</td><td>2.944401e-02</td><td>0.0133865261</td><td>0.00000000</td><td>0.000000000</td><td>0.659663866</td><td>0.072802175</td><td>1.173676e-02</td><td>0.000000000</td><td>0.0000000</td><td>0</td><td>0.0</td></tr>\n",
              "\t<tr><td>3.978407e-01</td><td>4.378617e-03</td><td>8.368485e-02</td><td>0.0874027704</td><td>0.00000000</td><td>0.000000000</td><td>0.000000000</td><td>1.000000000</td><td>0.000000e+00</td><td>0.000000000</td><td>0.0000000</td><td>0</td><td>0.0</td></tr>\n",
              "\t<tr><td>9.088775e-02</td><td>8.738395e-03</td><td>2.576692e-02</td><td>0.0923949634</td><td>0.00000000</td><td>0.000000000</td><td>0.000000000</td><td>0.002191645</td><td>3.912254e-03</td><td>0.000000000</td><td>0.0000000</td><td>0</td><td>0.0</td></tr>\n",
              "\t<tr><td>2.640281e-01</td><td>3.798587e-01</td><td>2.703698e-01</td><td>0.1862009197</td><td>0.03757147</td><td>0.862474720</td><td>0.494397759</td><td>0.038757518</td><td>3.730613e-01</td><td>1.000000000</td><td>0.0000000</td><td>0</td><td>0.0</td></tr>\n",
              "\t<tr><td>7.052248e-03</td><td>4.186320e-02</td><td>2.007109e-02</td><td>0.0000000000</td><td>0.00000000</td><td>0.000000000</td><td>0.000000000</td><td>0.021323226</td><td>0.000000e+00</td><td>0.000000000</td><td>0.0000000</td><td>0</td><td>0.0</td></tr>\n",
              "\t<tr><td>6.082837e-02</td><td>3.450555e-03</td><td>3.564147e-02</td><td>0.0712658826</td><td>0.03621018</td><td>0.076116933</td><td>0.070028011</td><td>0.000000000</td><td>1.334358e-02</td><td>0.040833509</td><td>0.0000000</td><td>0</td><td>1.0</td></tr>\n",
              "\t<tr><td>9.443025e-04</td><td>2.243426e-04</td><td>8.623722e-04</td><td>0.0012534200</td><td>0.00000000</td><td>0.000000000</td><td>0.000000000</td><td>0.000000000</td><td>0.000000e+00</td><td>0.000000000</td><td>0.0000000</td><td>0</td><td>0.0</td></tr>\n",
              "\t<tr><td>1.648436e-02</td><td>9.044467e-03</td><td>2.891895e-02</td><td>0.0037745849</td><td>0.00000000</td><td>0.041184041</td><td>0.642857143</td><td>0.018620746</td><td>2.319408e-02</td><td>0.036834351</td><td>0.0000000</td><td>0</td><td>0.0</td></tr>\n",
              "\t<tr><td>9.333857e-03</td><td>2.515319e-03</td><td>4.974449e-03</td><td>0.0020699337</td><td>0.00000000</td><td>0.145982717</td><td>0.238095238</td><td>0.003130922</td><td>1.879279e-02</td><td>0.000000000</td><td>0.0000000</td><td>0</td><td>0.0</td></tr>\n",
              "\t<tr><td>3.285954e-03</td><td>8.576277e-03</td><td>5.382295e-03</td><td>0.0000000000</td><td>0.00000000</td><td>0.000000000</td><td>0.000000000</td><td>0.005372003</td><td>1.942155e-02</td><td>0.000000000</td><td>0.0000000</td><td>0</td><td>0.0</td></tr>\n",
              "\t<tr><td>2.983559e-02</td><td>1.160293e-02</td><td>4.962382e-02</td><td>0.0021415577</td><td>0.10754152</td><td>0.228350800</td><td>0.000000000</td><td>0.043437423</td><td>5.323460e-02</td><td>0.000000000</td><td>0.6256410</td><td>0</td><td>0.6</td></tr>\n",
              "\t<tr><td>3.097640e-02</td><td>1.339869e-02</td><td>2.097857e-02</td><td>0.0111733444</td><td>0.12251565</td><td>0.000000000</td><td>0.000000000</td><td>0.060426794</td><td>0.000000e+00</td><td>0.000000000</td><td>0.0000000</td><td>0</td><td>0.0</td></tr>\n",
              "\t<tr><td>2.345200e-01</td><td>4.396269e-02</td><td>6.467877e-02</td><td>0.2481843315</td><td>0.02994827</td><td>0.048170620</td><td>0.140056022</td><td>0.087369202</td><td>1.775884e-01</td><td>0.000000000</td><td>0.0000000</td><td>0</td><td>0.0</td></tr>\n",
              "\t<tr><td>9.470317e-03</td><td>1.010209e-02</td><td>8.919989e-03</td><td>0.0000286496</td><td>0.00000000</td><td>0.000000000</td><td>0.100840336</td><td>0.027370849</td><td>0.000000e+00</td><td>0.000000000</td><td>0.0000000</td><td>0</td><td>0.0</td></tr>\n",
              "\t<tr><td>0.000000e+00</td><td>7.595702e-05</td><td>3.792481e-05</td><td>0.0000000000</td><td>0.00000000</td><td>0.000000000</td><td>0.000000000</td><td>0.000000000</td><td>6.986167e-05</td><td>0.000105241</td><td>0.0000000</td><td>0</td><td>0.0</td></tr>\n",
              "\t<tr><td>8.211065e-02</td><td>1.794215e-01</td><td>1.000000e+00</td><td>0.0000000000</td><td>0.00000000</td><td>0.000000000</td><td>0.000000000</td><td>0.247919585</td><td>0.000000e+00</td><td>0.000000000</td><td>0.0000000</td><td>0</td><td>0.0</td></tr>\n",
              "\t<tr><td>2.428986e-03</td><td>1.790063e-03</td><td>4.182485e-03</td><td>0.0015685657</td><td>0.00000000</td><td>0.000000000</td><td>0.000000000</td><td>0.000000000</td><td>0.000000e+00</td><td>0.023994948</td><td>0.0000000</td><td>0</td><td>0.0</td></tr>\n",
              "</tbody>\n",
              "</table>\n"
            ],
            "text/markdown": "\nA tibble: 45 × 13\n\n| Sum of QtyRequired &lt;dbl&gt; | Sum of TotalArea &lt;dbl&gt; | Sum of Amount &lt;dbl&gt; | DURRY &lt;dbl&gt; | HANDLOOM &lt;dbl&gt; | DOUBLE BACK &lt;dbl&gt; | JACQUARD &lt;dbl&gt; | HAND TUFTED &lt;dbl&gt; | HAND WOVEN &lt;dbl&gt; | KNOTTED &lt;dbl&gt; | GUN TUFTED &lt;dbl&gt; | Powerloom Jacquard &lt;dbl&gt; | INDO TEBETAN &lt;dbl&gt; |\n|---|---|---|---|---|---|---|---|---|---|---|---|---|\n| 1.344949e-02 | 6.591524e-04 | 1.631953e-02 | 0.0073128107 | 0.39341138 | 0.000000000 | 0.000000000 | 0.000000000 | 0.000000e+00 | 0.000000000 | 0.0000000 | 0 | 0.0 |\n| 7.041331e-04 | 9.939975e-03 | 5.218878e-04 | 0.0000000000 | 0.00000000 | 0.004596433 | 0.148459384 | 0.000000000 | 0.000000e+00 | 0.000000000 | 0.0000000 | 0 | 0.0 |\n| 1.032783e-01 | 2.556900e-01 | 1.403571e-01 | 0.0256772049 | 0.00000000 | 0.032175032 | 1.000000000 | 0.193062536 | 1.478273e-01 | 0.064933698 | 0.0000000 | 0 | 0.0 |\n| 3.395122e-03 | 9.610194e-04 | 1.277016e-03 | 0.0041613546 | 0.00000000 | 0.000000000 | 0.002801120 | 0.000000000 | 2.864329e-03 | 0.000000000 | 0.0000000 | 0 | 0.0 |\n| 2.521779e-03 | 4.029209e-02 | 5.140588e-03 | 0.0000000000 | 0.00000000 | 0.084390513 | 0.007002801 | 0.000000000 | 0.000000e+00 | 0.000000000 | 0.0000000 | 0 | 0.0 |\n| 3.766293e-03 | 1.546271e-02 | 2.285006e-03 | 0.0005729920 | 0.02777022 | 0.000000000 | 0.000000000 | 0.008404054 | 0.000000e+00 | 0.000000000 | 0.0000000 | 0 | 0.0 |\n| 2.802886e-02 | 2.992588e-01 | 5.002254e-02 | 0.0020627713 | 0.00000000 | 0.000000000 | 0.000000000 | 0.068814369 | 1.536957e-02 | 0.047674174 | 0.0000000 | 0 | 0.0 |\n| 3.011397e-01 | 4.533890e-02 | 1.372747e-01 | 0.2653096306 | 0.00000000 | 0.000000000 | 0.000000000 | 0.062882096 | 1.000000e+00 | 0.000000000 | 0.0000000 | 0 | 0.0 |\n| 8.536932e-03 | 1.914255e-02 | 8.706100e-03 | 0.0088813763 | 0.00000000 | 0.000000000 | 0.000000000 | 0.005372003 | 0.000000e+00 | 0.000000000 | 0.0000000 | 0 | 0.0 |\n| 2.770136e-02 | 3.668940e-02 | 1.298375e-02 | 0.0000286496 | 0.00816771 | 0.000551572 | 0.000000000 | 0.082738733 | 0.000000e+00 | 0.000000000 | 0.0974359 | 0 | 0.0 |\n| 3.073077e-03 | 1.996196e-03 | 2.069632e-03 | 0.0000000000 | 0.00000000 | 0.000000000 | 0.000000000 | 0.009310373 | 0.000000e+00 | 0.000000000 | 0.0000000 | 0 | 0.0 |\n| 8.023842e-04 | 1.452512e-03 | 2.497128e-03 | 0.0000000000 | 0.00000000 | 0.002941717 | 0.008403361 | 0.000214221 | 0.000000e+00 | 0.011997474 | 0.0000000 | 0 | 0.0 |\n| 3.160411e-03 | 9.000716e-02 | 1.026825e-02 | 0.0000931112 | 0.00000000 | 0.063982350 | 0.211484594 | 0.000000000 | 3.562945e-03 | 0.001894338 | 0.0000000 | 0 | 0.0 |\n| 6.309906e-03 | 1.344935e-02 | 1.027354e-02 | 0.0020627713 | 0.00000000 | 0.011766869 | 0.000000000 | 0.013281701 | 0.000000e+00 | 0.000000000 | 0.0000000 | 0 | 0.0 |\n| 7.630838e-03 | 0.000000e+00 | 1.452387e-03 | 0.0100273604 | 0.00000000 | 0.000000000 | 0.000000000 | 0.000000000 | 0.000000e+00 | 0.000000000 | 0.0000000 | 0 | 0.0 |\n| 7.860090e-04 | 2.549376e-02 | 3.471768e-03 | 0.0000000000 | 0.00000000 | 0.009560581 | 0.095238095 | 0.000000000 | 1.816404e-03 | 0.000000000 | 0.0000000 | 0 | 0.0 |\n| 6.386323e-04 | 9.815382e-05 | 0.000000e+00 | 0.0008523256 | 0.00000000 | 0.000000000 | 0.000000000 | 0.000000000 | 0.000000e+00 | 0.000000000 | 0.0000000 | 0 | 0.0 |\n| 6.195280e-03 | 4.446662e-02 | 5.736399e-03 | 0.0002793336 | 0.00000000 | 0.000000000 | 0.000000000 | 0.017747384 | 1.257510e-03 | 0.000000000 | 0.0000000 | 0 | 0.0 |\n| 1.000000e+00 | 9.299869e-02 | 3.354700e-01 | 1.0000000000 | 1.00000000 | 0.000000000 | 0.770308123 | 0.438526819 | 2.095850e-01 | 0.000000000 | 0.0000000 | 1 | 0.0 |\n| 4.093251e-02 | 7.186983e-03 | 3.758994e-02 | 0.0070048275 | 0.21453852 | 0.075381504 | 0.638655462 | 0.060262009 | 7.866424e-02 | 0.005893496 | 0.1538462 | 0 | 0.0 |\n| 1.029399e-01 | 1.420582e-02 | 1.085689e-01 | 0.0380323454 | 0.00000000 | 0.657289943 | 0.323529412 | 0.058399934 | 3.569932e-01 | 0.107977268 | 0.0000000 | 0 | 0.0 |\n| 2.379861e-03 | 1.836095e-02 | 5.250846e-03 | 0.0025641393 | 0.00000000 | 0.000000000 | 0.000000000 | 0.000000000 | 0.000000e+00 | 0.008419280 | 0.0000000 | 0 | 0.0 |\n| 5.458396e-06 | 3.781954e-04 | 7.153362e-06 | 0.0000000000 | 0.00000000 | 0.000551572 | 0.000000000 | 0.000000000 | 0.000000e+00 | 0.000000000 | 0.0000000 | 0 | 0.0 |\n| 1.697561e-03 | 3.842672e-04 | 1.867131e-03 | 0.0000000000 | 0.00000000 | 0.029417172 | 0.000000000 | 0.002521216 | 0.000000e+00 | 0.000000000 | 0.0000000 | 0 | 0.0 |\n| 4.137464e-03 | 8.199591e-03 | 7.973731e-03 | 0.0000000000 | 0.00000000 | 0.000000000 | 0.000000000 | 0.012523688 | 0.000000e+00 | 0.000000000 | 0.0000000 | 0 | 0.0 |\n| 4.224799e-03 | 2.865673e-05 | 3.871457e-03 | 0.0055580226 | 0.00000000 | 0.000000000 | 0.000000000 | 0.000000000 | 0.000000e+00 | 0.000000000 | 0.0000000 | 0 | 0.0 |\n| 1.410340e-01 | 9.948796e-04 | 3.161713e-02 | 0.1850764228 | 0.00000000 | 0.000000000 | 0.000000000 | 0.000000000 | 0.000000e+00 | 0.000000000 | 0.0000000 | 0 | 0.0 |\n| 9.086592e-02 | 1.000000e+00 | 1.727813e-01 | 0.0029509089 | 0.29539886 | 1.000000000 | 0.084033613 | 0.044442613 | 2.155233e-01 | 0.381603873 | 1.0000000 | 0 | 0.0 |\n| 3.779393e-02 | 3.909448e-02 | 2.944401e-02 | 0.0133865261 | 0.00000000 | 0.000000000 | 0.659663866 | 0.072802175 | 1.173676e-02 | 0.000000000 | 0.0000000 | 0 | 0.0 |\n| 3.978407e-01 | 4.378617e-03 | 8.368485e-02 | 0.0874027704 | 0.00000000 | 0.000000000 | 0.000000000 | 1.000000000 | 0.000000e+00 | 0.000000000 | 0.0000000 | 0 | 0.0 |\n| 9.088775e-02 | 8.738395e-03 | 2.576692e-02 | 0.0923949634 | 0.00000000 | 0.000000000 | 0.000000000 | 0.002191645 | 3.912254e-03 | 0.000000000 | 0.0000000 | 0 | 0.0 |\n| 2.640281e-01 | 3.798587e-01 | 2.703698e-01 | 0.1862009197 | 0.03757147 | 0.862474720 | 0.494397759 | 0.038757518 | 3.730613e-01 | 1.000000000 | 0.0000000 | 0 | 0.0 |\n| 7.052248e-03 | 4.186320e-02 | 2.007109e-02 | 0.0000000000 | 0.00000000 | 0.000000000 | 0.000000000 | 0.021323226 | 0.000000e+00 | 0.000000000 | 0.0000000 | 0 | 0.0 |\n| 6.082837e-02 | 3.450555e-03 | 3.564147e-02 | 0.0712658826 | 0.03621018 | 0.076116933 | 0.070028011 | 0.000000000 | 1.334358e-02 | 0.040833509 | 0.0000000 | 0 | 1.0 |\n| 9.443025e-04 | 2.243426e-04 | 8.623722e-04 | 0.0012534200 | 0.00000000 | 0.000000000 | 0.000000000 | 0.000000000 | 0.000000e+00 | 0.000000000 | 0.0000000 | 0 | 0.0 |\n| 1.648436e-02 | 9.044467e-03 | 2.891895e-02 | 0.0037745849 | 0.00000000 | 0.041184041 | 0.642857143 | 0.018620746 | 2.319408e-02 | 0.036834351 | 0.0000000 | 0 | 0.0 |\n| 9.333857e-03 | 2.515319e-03 | 4.974449e-03 | 0.0020699337 | 0.00000000 | 0.145982717 | 0.238095238 | 0.003130922 | 1.879279e-02 | 0.000000000 | 0.0000000 | 0 | 0.0 |\n| 3.285954e-03 | 8.576277e-03 | 5.382295e-03 | 0.0000000000 | 0.00000000 | 0.000000000 | 0.000000000 | 0.005372003 | 1.942155e-02 | 0.000000000 | 0.0000000 | 0 | 0.0 |\n| 2.983559e-02 | 1.160293e-02 | 4.962382e-02 | 0.0021415577 | 0.10754152 | 0.228350800 | 0.000000000 | 0.043437423 | 5.323460e-02 | 0.000000000 | 0.6256410 | 0 | 0.6 |\n| 3.097640e-02 | 1.339869e-02 | 2.097857e-02 | 0.0111733444 | 0.12251565 | 0.000000000 | 0.000000000 | 0.060426794 | 0.000000e+00 | 0.000000000 | 0.0000000 | 0 | 0.0 |\n| 2.345200e-01 | 4.396269e-02 | 6.467877e-02 | 0.2481843315 | 0.02994827 | 0.048170620 | 0.140056022 | 0.087369202 | 1.775884e-01 | 0.000000000 | 0.0000000 | 0 | 0.0 |\n| 9.470317e-03 | 1.010209e-02 | 8.919989e-03 | 0.0000286496 | 0.00000000 | 0.000000000 | 0.100840336 | 0.027370849 | 0.000000e+00 | 0.000000000 | 0.0000000 | 0 | 0.0 |\n| 0.000000e+00 | 7.595702e-05 | 3.792481e-05 | 0.0000000000 | 0.00000000 | 0.000000000 | 0.000000000 | 0.000000000 | 6.986167e-05 | 0.000105241 | 0.0000000 | 0 | 0.0 |\n| 8.211065e-02 | 1.794215e-01 | 1.000000e+00 | 0.0000000000 | 0.00000000 | 0.000000000 | 0.000000000 | 0.247919585 | 0.000000e+00 | 0.000000000 | 0.0000000 | 0 | 0.0 |\n| 2.428986e-03 | 1.790063e-03 | 4.182485e-03 | 0.0015685657 | 0.00000000 | 0.000000000 | 0.000000000 | 0.000000000 | 0.000000e+00 | 0.023994948 | 0.0000000 | 0 | 0.0 |\n\n",
            "text/latex": "A tibble: 45 × 13\n\\begin{tabular}{lllllllllllll}\n Sum of QtyRequired & Sum of TotalArea & Sum of Amount & DURRY & HANDLOOM & DOUBLE BACK & JACQUARD & HAND TUFTED & HAND WOVEN & KNOTTED & GUN TUFTED & Powerloom Jacquard & INDO TEBETAN\\\\\n <dbl> & <dbl> & <dbl> & <dbl> & <dbl> & <dbl> & <dbl> & <dbl> & <dbl> & <dbl> & <dbl> & <dbl> & <dbl>\\\\\n\\hline\n\t 1.344949e-02 & 6.591524e-04 & 1.631953e-02 & 0.0073128107 & 0.39341138 & 0.000000000 & 0.000000000 & 0.000000000 & 0.000000e+00 & 0.000000000 & 0.0000000 & 0 & 0.0\\\\\n\t 7.041331e-04 & 9.939975e-03 & 5.218878e-04 & 0.0000000000 & 0.00000000 & 0.004596433 & 0.148459384 & 0.000000000 & 0.000000e+00 & 0.000000000 & 0.0000000 & 0 & 0.0\\\\\n\t 1.032783e-01 & 2.556900e-01 & 1.403571e-01 & 0.0256772049 & 0.00000000 & 0.032175032 & 1.000000000 & 0.193062536 & 1.478273e-01 & 0.064933698 & 0.0000000 & 0 & 0.0\\\\\n\t 3.395122e-03 & 9.610194e-04 & 1.277016e-03 & 0.0041613546 & 0.00000000 & 0.000000000 & 0.002801120 & 0.000000000 & 2.864329e-03 & 0.000000000 & 0.0000000 & 0 & 0.0\\\\\n\t 2.521779e-03 & 4.029209e-02 & 5.140588e-03 & 0.0000000000 & 0.00000000 & 0.084390513 & 0.007002801 & 0.000000000 & 0.000000e+00 & 0.000000000 & 0.0000000 & 0 & 0.0\\\\\n\t 3.766293e-03 & 1.546271e-02 & 2.285006e-03 & 0.0005729920 & 0.02777022 & 0.000000000 & 0.000000000 & 0.008404054 & 0.000000e+00 & 0.000000000 & 0.0000000 & 0 & 0.0\\\\\n\t 2.802886e-02 & 2.992588e-01 & 5.002254e-02 & 0.0020627713 & 0.00000000 & 0.000000000 & 0.000000000 & 0.068814369 & 1.536957e-02 & 0.047674174 & 0.0000000 & 0 & 0.0\\\\\n\t 3.011397e-01 & 4.533890e-02 & 1.372747e-01 & 0.2653096306 & 0.00000000 & 0.000000000 & 0.000000000 & 0.062882096 & 1.000000e+00 & 0.000000000 & 0.0000000 & 0 & 0.0\\\\\n\t 8.536932e-03 & 1.914255e-02 & 8.706100e-03 & 0.0088813763 & 0.00000000 & 0.000000000 & 0.000000000 & 0.005372003 & 0.000000e+00 & 0.000000000 & 0.0000000 & 0 & 0.0\\\\\n\t 2.770136e-02 & 3.668940e-02 & 1.298375e-02 & 0.0000286496 & 0.00816771 & 0.000551572 & 0.000000000 & 0.082738733 & 0.000000e+00 & 0.000000000 & 0.0974359 & 0 & 0.0\\\\\n\t 3.073077e-03 & 1.996196e-03 & 2.069632e-03 & 0.0000000000 & 0.00000000 & 0.000000000 & 0.000000000 & 0.009310373 & 0.000000e+00 & 0.000000000 & 0.0000000 & 0 & 0.0\\\\\n\t 8.023842e-04 & 1.452512e-03 & 2.497128e-03 & 0.0000000000 & 0.00000000 & 0.002941717 & 0.008403361 & 0.000214221 & 0.000000e+00 & 0.011997474 & 0.0000000 & 0 & 0.0\\\\\n\t 3.160411e-03 & 9.000716e-02 & 1.026825e-02 & 0.0000931112 & 0.00000000 & 0.063982350 & 0.211484594 & 0.000000000 & 3.562945e-03 & 0.001894338 & 0.0000000 & 0 & 0.0\\\\\n\t 6.309906e-03 & 1.344935e-02 & 1.027354e-02 & 0.0020627713 & 0.00000000 & 0.011766869 & 0.000000000 & 0.013281701 & 0.000000e+00 & 0.000000000 & 0.0000000 & 0 & 0.0\\\\\n\t 7.630838e-03 & 0.000000e+00 & 1.452387e-03 & 0.0100273604 & 0.00000000 & 0.000000000 & 0.000000000 & 0.000000000 & 0.000000e+00 & 0.000000000 & 0.0000000 & 0 & 0.0\\\\\n\t 7.860090e-04 & 2.549376e-02 & 3.471768e-03 & 0.0000000000 & 0.00000000 & 0.009560581 & 0.095238095 & 0.000000000 & 1.816404e-03 & 0.000000000 & 0.0000000 & 0 & 0.0\\\\\n\t 6.386323e-04 & 9.815382e-05 & 0.000000e+00 & 0.0008523256 & 0.00000000 & 0.000000000 & 0.000000000 & 0.000000000 & 0.000000e+00 & 0.000000000 & 0.0000000 & 0 & 0.0\\\\\n\t 6.195280e-03 & 4.446662e-02 & 5.736399e-03 & 0.0002793336 & 0.00000000 & 0.000000000 & 0.000000000 & 0.017747384 & 1.257510e-03 & 0.000000000 & 0.0000000 & 0 & 0.0\\\\\n\t 1.000000e+00 & 9.299869e-02 & 3.354700e-01 & 1.0000000000 & 1.00000000 & 0.000000000 & 0.770308123 & 0.438526819 & 2.095850e-01 & 0.000000000 & 0.0000000 & 1 & 0.0\\\\\n\t 4.093251e-02 & 7.186983e-03 & 3.758994e-02 & 0.0070048275 & 0.21453852 & 0.075381504 & 0.638655462 & 0.060262009 & 7.866424e-02 & 0.005893496 & 0.1538462 & 0 & 0.0\\\\\n\t 1.029399e-01 & 1.420582e-02 & 1.085689e-01 & 0.0380323454 & 0.00000000 & 0.657289943 & 0.323529412 & 0.058399934 & 3.569932e-01 & 0.107977268 & 0.0000000 & 0 & 0.0\\\\\n\t 2.379861e-03 & 1.836095e-02 & 5.250846e-03 & 0.0025641393 & 0.00000000 & 0.000000000 & 0.000000000 & 0.000000000 & 0.000000e+00 & 0.008419280 & 0.0000000 & 0 & 0.0\\\\\n\t 5.458396e-06 & 3.781954e-04 & 7.153362e-06 & 0.0000000000 & 0.00000000 & 0.000551572 & 0.000000000 & 0.000000000 & 0.000000e+00 & 0.000000000 & 0.0000000 & 0 & 0.0\\\\\n\t 1.697561e-03 & 3.842672e-04 & 1.867131e-03 & 0.0000000000 & 0.00000000 & 0.029417172 & 0.000000000 & 0.002521216 & 0.000000e+00 & 0.000000000 & 0.0000000 & 0 & 0.0\\\\\n\t 4.137464e-03 & 8.199591e-03 & 7.973731e-03 & 0.0000000000 & 0.00000000 & 0.000000000 & 0.000000000 & 0.012523688 & 0.000000e+00 & 0.000000000 & 0.0000000 & 0 & 0.0\\\\\n\t 4.224799e-03 & 2.865673e-05 & 3.871457e-03 & 0.0055580226 & 0.00000000 & 0.000000000 & 0.000000000 & 0.000000000 & 0.000000e+00 & 0.000000000 & 0.0000000 & 0 & 0.0\\\\\n\t 1.410340e-01 & 9.948796e-04 & 3.161713e-02 & 0.1850764228 & 0.00000000 & 0.000000000 & 0.000000000 & 0.000000000 & 0.000000e+00 & 0.000000000 & 0.0000000 & 0 & 0.0\\\\\n\t 9.086592e-02 & 1.000000e+00 & 1.727813e-01 & 0.0029509089 & 0.29539886 & 1.000000000 & 0.084033613 & 0.044442613 & 2.155233e-01 & 0.381603873 & 1.0000000 & 0 & 0.0\\\\\n\t 3.779393e-02 & 3.909448e-02 & 2.944401e-02 & 0.0133865261 & 0.00000000 & 0.000000000 & 0.659663866 & 0.072802175 & 1.173676e-02 & 0.000000000 & 0.0000000 & 0 & 0.0\\\\\n\t 3.978407e-01 & 4.378617e-03 & 8.368485e-02 & 0.0874027704 & 0.00000000 & 0.000000000 & 0.000000000 & 1.000000000 & 0.000000e+00 & 0.000000000 & 0.0000000 & 0 & 0.0\\\\\n\t 9.088775e-02 & 8.738395e-03 & 2.576692e-02 & 0.0923949634 & 0.00000000 & 0.000000000 & 0.000000000 & 0.002191645 & 3.912254e-03 & 0.000000000 & 0.0000000 & 0 & 0.0\\\\\n\t 2.640281e-01 & 3.798587e-01 & 2.703698e-01 & 0.1862009197 & 0.03757147 & 0.862474720 & 0.494397759 & 0.038757518 & 3.730613e-01 & 1.000000000 & 0.0000000 & 0 & 0.0\\\\\n\t 7.052248e-03 & 4.186320e-02 & 2.007109e-02 & 0.0000000000 & 0.00000000 & 0.000000000 & 0.000000000 & 0.021323226 & 0.000000e+00 & 0.000000000 & 0.0000000 & 0 & 0.0\\\\\n\t 6.082837e-02 & 3.450555e-03 & 3.564147e-02 & 0.0712658826 & 0.03621018 & 0.076116933 & 0.070028011 & 0.000000000 & 1.334358e-02 & 0.040833509 & 0.0000000 & 0 & 1.0\\\\\n\t 9.443025e-04 & 2.243426e-04 & 8.623722e-04 & 0.0012534200 & 0.00000000 & 0.000000000 & 0.000000000 & 0.000000000 & 0.000000e+00 & 0.000000000 & 0.0000000 & 0 & 0.0\\\\\n\t 1.648436e-02 & 9.044467e-03 & 2.891895e-02 & 0.0037745849 & 0.00000000 & 0.041184041 & 0.642857143 & 0.018620746 & 2.319408e-02 & 0.036834351 & 0.0000000 & 0 & 0.0\\\\\n\t 9.333857e-03 & 2.515319e-03 & 4.974449e-03 & 0.0020699337 & 0.00000000 & 0.145982717 & 0.238095238 & 0.003130922 & 1.879279e-02 & 0.000000000 & 0.0000000 & 0 & 0.0\\\\\n\t 3.285954e-03 & 8.576277e-03 & 5.382295e-03 & 0.0000000000 & 0.00000000 & 0.000000000 & 0.000000000 & 0.005372003 & 1.942155e-02 & 0.000000000 & 0.0000000 & 0 & 0.0\\\\\n\t 2.983559e-02 & 1.160293e-02 & 4.962382e-02 & 0.0021415577 & 0.10754152 & 0.228350800 & 0.000000000 & 0.043437423 & 5.323460e-02 & 0.000000000 & 0.6256410 & 0 & 0.6\\\\\n\t 3.097640e-02 & 1.339869e-02 & 2.097857e-02 & 0.0111733444 & 0.12251565 & 0.000000000 & 0.000000000 & 0.060426794 & 0.000000e+00 & 0.000000000 & 0.0000000 & 0 & 0.0\\\\\n\t 2.345200e-01 & 4.396269e-02 & 6.467877e-02 & 0.2481843315 & 0.02994827 & 0.048170620 & 0.140056022 & 0.087369202 & 1.775884e-01 & 0.000000000 & 0.0000000 & 0 & 0.0\\\\\n\t 9.470317e-03 & 1.010209e-02 & 8.919989e-03 & 0.0000286496 & 0.00000000 & 0.000000000 & 0.100840336 & 0.027370849 & 0.000000e+00 & 0.000000000 & 0.0000000 & 0 & 0.0\\\\\n\t 0.000000e+00 & 7.595702e-05 & 3.792481e-05 & 0.0000000000 & 0.00000000 & 0.000000000 & 0.000000000 & 0.000000000 & 6.986167e-05 & 0.000105241 & 0.0000000 & 0 & 0.0\\\\\n\t 8.211065e-02 & 1.794215e-01 & 1.000000e+00 & 0.0000000000 & 0.00000000 & 0.000000000 & 0.000000000 & 0.247919585 & 0.000000e+00 & 0.000000000 & 0.0000000 & 0 & 0.0\\\\\n\t 2.428986e-03 & 1.790063e-03 & 4.182485e-03 & 0.0015685657 & 0.00000000 & 0.000000000 & 0.000000000 & 0.000000000 & 0.000000e+00 & 0.023994948 & 0.0000000 & 0 & 0.0\\\\\n\\end{tabular}\n",
            "text/plain": [
              "   Sum of QtyRequired Sum of TotalArea Sum of Amount DURRY        HANDLOOM  \n",
              "1  1.344949e-02       6.591524e-04     1.631953e-02  0.0073128107 0.39341138\n",
              "2  7.041331e-04       9.939975e-03     5.218878e-04  0.0000000000 0.00000000\n",
              "3  1.032783e-01       2.556900e-01     1.403571e-01  0.0256772049 0.00000000\n",
              "4  3.395122e-03       9.610194e-04     1.277016e-03  0.0041613546 0.00000000\n",
              "5  2.521779e-03       4.029209e-02     5.140588e-03  0.0000000000 0.00000000\n",
              "6  3.766293e-03       1.546271e-02     2.285006e-03  0.0005729920 0.02777022\n",
              "7  2.802886e-02       2.992588e-01     5.002254e-02  0.0020627713 0.00000000\n",
              "8  3.011397e-01       4.533890e-02     1.372747e-01  0.2653096306 0.00000000\n",
              "9  8.536932e-03       1.914255e-02     8.706100e-03  0.0088813763 0.00000000\n",
              "10 2.770136e-02       3.668940e-02     1.298375e-02  0.0000286496 0.00816771\n",
              "11 3.073077e-03       1.996196e-03     2.069632e-03  0.0000000000 0.00000000\n",
              "12 8.023842e-04       1.452512e-03     2.497128e-03  0.0000000000 0.00000000\n",
              "13 3.160411e-03       9.000716e-02     1.026825e-02  0.0000931112 0.00000000\n",
              "14 6.309906e-03       1.344935e-02     1.027354e-02  0.0020627713 0.00000000\n",
              "15 7.630838e-03       0.000000e+00     1.452387e-03  0.0100273604 0.00000000\n",
              "16 7.860090e-04       2.549376e-02     3.471768e-03  0.0000000000 0.00000000\n",
              "17 6.386323e-04       9.815382e-05     0.000000e+00  0.0008523256 0.00000000\n",
              "18 6.195280e-03       4.446662e-02     5.736399e-03  0.0002793336 0.00000000\n",
              "19 1.000000e+00       9.299869e-02     3.354700e-01  1.0000000000 1.00000000\n",
              "20 4.093251e-02       7.186983e-03     3.758994e-02  0.0070048275 0.21453852\n",
              "21 1.029399e-01       1.420582e-02     1.085689e-01  0.0380323454 0.00000000\n",
              "22 2.379861e-03       1.836095e-02     5.250846e-03  0.0025641393 0.00000000\n",
              "23 5.458396e-06       3.781954e-04     7.153362e-06  0.0000000000 0.00000000\n",
              "24 1.697561e-03       3.842672e-04     1.867131e-03  0.0000000000 0.00000000\n",
              "25 4.137464e-03       8.199591e-03     7.973731e-03  0.0000000000 0.00000000\n",
              "26 4.224799e-03       2.865673e-05     3.871457e-03  0.0055580226 0.00000000\n",
              "27 1.410340e-01       9.948796e-04     3.161713e-02  0.1850764228 0.00000000\n",
              "28 9.086592e-02       1.000000e+00     1.727813e-01  0.0029509089 0.29539886\n",
              "29 3.779393e-02       3.909448e-02     2.944401e-02  0.0133865261 0.00000000\n",
              "30 3.978407e-01       4.378617e-03     8.368485e-02  0.0874027704 0.00000000\n",
              "31 9.088775e-02       8.738395e-03     2.576692e-02  0.0923949634 0.00000000\n",
              "32 2.640281e-01       3.798587e-01     2.703698e-01  0.1862009197 0.03757147\n",
              "33 7.052248e-03       4.186320e-02     2.007109e-02  0.0000000000 0.00000000\n",
              "34 6.082837e-02       3.450555e-03     3.564147e-02  0.0712658826 0.03621018\n",
              "35 9.443025e-04       2.243426e-04     8.623722e-04  0.0012534200 0.00000000\n",
              "36 1.648436e-02       9.044467e-03     2.891895e-02  0.0037745849 0.00000000\n",
              "37 9.333857e-03       2.515319e-03     4.974449e-03  0.0020699337 0.00000000\n",
              "38 3.285954e-03       8.576277e-03     5.382295e-03  0.0000000000 0.00000000\n",
              "39 2.983559e-02       1.160293e-02     4.962382e-02  0.0021415577 0.10754152\n",
              "40 3.097640e-02       1.339869e-02     2.097857e-02  0.0111733444 0.12251565\n",
              "41 2.345200e-01       4.396269e-02     6.467877e-02  0.2481843315 0.02994827\n",
              "42 9.470317e-03       1.010209e-02     8.919989e-03  0.0000286496 0.00000000\n",
              "43 0.000000e+00       7.595702e-05     3.792481e-05  0.0000000000 0.00000000\n",
              "44 8.211065e-02       1.794215e-01     1.000000e+00  0.0000000000 0.00000000\n",
              "45 2.428986e-03       1.790063e-03     4.182485e-03  0.0015685657 0.00000000\n",
              "   DOUBLE BACK JACQUARD    HAND TUFTED HAND WOVEN   KNOTTED     GUN TUFTED\n",
              "1  0.000000000 0.000000000 0.000000000 0.000000e+00 0.000000000 0.0000000 \n",
              "2  0.004596433 0.148459384 0.000000000 0.000000e+00 0.000000000 0.0000000 \n",
              "3  0.032175032 1.000000000 0.193062536 1.478273e-01 0.064933698 0.0000000 \n",
              "4  0.000000000 0.002801120 0.000000000 2.864329e-03 0.000000000 0.0000000 \n",
              "5  0.084390513 0.007002801 0.000000000 0.000000e+00 0.000000000 0.0000000 \n",
              "6  0.000000000 0.000000000 0.008404054 0.000000e+00 0.000000000 0.0000000 \n",
              "7  0.000000000 0.000000000 0.068814369 1.536957e-02 0.047674174 0.0000000 \n",
              "8  0.000000000 0.000000000 0.062882096 1.000000e+00 0.000000000 0.0000000 \n",
              "9  0.000000000 0.000000000 0.005372003 0.000000e+00 0.000000000 0.0000000 \n",
              "10 0.000551572 0.000000000 0.082738733 0.000000e+00 0.000000000 0.0974359 \n",
              "11 0.000000000 0.000000000 0.009310373 0.000000e+00 0.000000000 0.0000000 \n",
              "12 0.002941717 0.008403361 0.000214221 0.000000e+00 0.011997474 0.0000000 \n",
              "13 0.063982350 0.211484594 0.000000000 3.562945e-03 0.001894338 0.0000000 \n",
              "14 0.011766869 0.000000000 0.013281701 0.000000e+00 0.000000000 0.0000000 \n",
              "15 0.000000000 0.000000000 0.000000000 0.000000e+00 0.000000000 0.0000000 \n",
              "16 0.009560581 0.095238095 0.000000000 1.816404e-03 0.000000000 0.0000000 \n",
              "17 0.000000000 0.000000000 0.000000000 0.000000e+00 0.000000000 0.0000000 \n",
              "18 0.000000000 0.000000000 0.017747384 1.257510e-03 0.000000000 0.0000000 \n",
              "19 0.000000000 0.770308123 0.438526819 2.095850e-01 0.000000000 0.0000000 \n",
              "20 0.075381504 0.638655462 0.060262009 7.866424e-02 0.005893496 0.1538462 \n",
              "21 0.657289943 0.323529412 0.058399934 3.569932e-01 0.107977268 0.0000000 \n",
              "22 0.000000000 0.000000000 0.000000000 0.000000e+00 0.008419280 0.0000000 \n",
              "23 0.000551572 0.000000000 0.000000000 0.000000e+00 0.000000000 0.0000000 \n",
              "24 0.029417172 0.000000000 0.002521216 0.000000e+00 0.000000000 0.0000000 \n",
              "25 0.000000000 0.000000000 0.012523688 0.000000e+00 0.000000000 0.0000000 \n",
              "26 0.000000000 0.000000000 0.000000000 0.000000e+00 0.000000000 0.0000000 \n",
              "27 0.000000000 0.000000000 0.000000000 0.000000e+00 0.000000000 0.0000000 \n",
              "28 1.000000000 0.084033613 0.044442613 2.155233e-01 0.381603873 1.0000000 \n",
              "29 0.000000000 0.659663866 0.072802175 1.173676e-02 0.000000000 0.0000000 \n",
              "30 0.000000000 0.000000000 1.000000000 0.000000e+00 0.000000000 0.0000000 \n",
              "31 0.000000000 0.000000000 0.002191645 3.912254e-03 0.000000000 0.0000000 \n",
              "32 0.862474720 0.494397759 0.038757518 3.730613e-01 1.000000000 0.0000000 \n",
              "33 0.000000000 0.000000000 0.021323226 0.000000e+00 0.000000000 0.0000000 \n",
              "34 0.076116933 0.070028011 0.000000000 1.334358e-02 0.040833509 0.0000000 \n",
              "35 0.000000000 0.000000000 0.000000000 0.000000e+00 0.000000000 0.0000000 \n",
              "36 0.041184041 0.642857143 0.018620746 2.319408e-02 0.036834351 0.0000000 \n",
              "37 0.145982717 0.238095238 0.003130922 1.879279e-02 0.000000000 0.0000000 \n",
              "38 0.000000000 0.000000000 0.005372003 1.942155e-02 0.000000000 0.0000000 \n",
              "39 0.228350800 0.000000000 0.043437423 5.323460e-02 0.000000000 0.6256410 \n",
              "40 0.000000000 0.000000000 0.060426794 0.000000e+00 0.000000000 0.0000000 \n",
              "41 0.048170620 0.140056022 0.087369202 1.775884e-01 0.000000000 0.0000000 \n",
              "42 0.000000000 0.100840336 0.027370849 0.000000e+00 0.000000000 0.0000000 \n",
              "43 0.000000000 0.000000000 0.000000000 6.986167e-05 0.000105241 0.0000000 \n",
              "44 0.000000000 0.000000000 0.247919585 0.000000e+00 0.000000000 0.0000000 \n",
              "45 0.000000000 0.000000000 0.000000000 0.000000e+00 0.023994948 0.0000000 \n",
              "   Powerloom Jacquard INDO TEBETAN\n",
              "1  0                  0.0         \n",
              "2  0                  0.0         \n",
              "3  0                  0.0         \n",
              "4  0                  0.0         \n",
              "5  0                  0.0         \n",
              "6  0                  0.0         \n",
              "7  0                  0.0         \n",
              "8  0                  0.0         \n",
              "9  0                  0.0         \n",
              "10 0                  0.0         \n",
              "11 0                  0.0         \n",
              "12 0                  0.0         \n",
              "13 0                  0.0         \n",
              "14 0                  0.0         \n",
              "15 0                  0.0         \n",
              "16 0                  0.0         \n",
              "17 0                  0.0         \n",
              "18 0                  0.0         \n",
              "19 1                  0.0         \n",
              "20 0                  0.0         \n",
              "21 0                  0.0         \n",
              "22 0                  0.0         \n",
              "23 0                  0.0         \n",
              "24 0                  0.0         \n",
              "25 0                  0.0         \n",
              "26 0                  0.0         \n",
              "27 0                  0.0         \n",
              "28 0                  0.0         \n",
              "29 0                  0.0         \n",
              "30 0                  0.0         \n",
              "31 0                  0.0         \n",
              "32 0                  0.0         \n",
              "33 0                  0.0         \n",
              "34 0                  1.0         \n",
              "35 0                  0.0         \n",
              "36 0                  0.0         \n",
              "37 0                  0.0         \n",
              "38 0                  0.0         \n",
              "39 0                  0.6         \n",
              "40 0                  0.0         \n",
              "41 0                  0.0         \n",
              "42 0                  0.0         \n",
              "43 0                  0.0         \n",
              "44 0                  0.0         \n",
              "45 0                  0.0         "
            ]
          },
          "metadata": {}
        },
        {
          "output_type": "display_data",
          "data": {
            "text/plain": [
              "K-means clustering with 6 clusters of sizes 3, 5, 2, 1, 32, 2\n",
              "\n",
              "Cluster means:\n",
              "  Sum of QtyRequired Sum of TotalArea Sum of Amount      DURRY   HANDLOOM\n",
              "1         0.26036367      0.076379689    0.40698651 0.11757080 0.00000000\n",
              "2         0.06028580      0.065044358    0.06897577 0.01757510 0.04290770\n",
              "3         0.04533198      0.007526745    0.04263264 0.03670372 0.07187585\n",
              "4         1.00000000      0.092998692    0.33546999 1.00000000 1.00000000\n",
              "5         0.02059623      0.023717593    0.01060837 0.01831896 0.01818166\n",
              "6         0.17744700      0.689929357    0.22157557 0.09457591 0.16648516\n",
              "  DOUBLE BACK   JACQUARD HAND TUFTED  HAND WOVEN    KNOTTED  GUN TUFTED\n",
              "1  0.00000000 0.00000000  0.43693389 0.333333333 0.00000000 0.000000000\n",
              "2  0.16120610 0.65294118  0.08062948 0.123683107 0.04312776 0.030769231\n",
              "3  0.15223387 0.03501401  0.02171871 0.033289088 0.02041675 0.312820513\n",
              "4  0.00000000 0.77030812  0.43852682 0.209585022 0.00000000 0.000000000\n",
              "5  0.01255975 0.02976190  0.01337851 0.007645487 0.00294017 0.003044872\n",
              "6  0.93123736 0.28921569  0.04160007 0.294292301 0.69080194 0.500000000\n",
              "  Powerloom Jacquard INDO TEBETAN\n",
              "1                  0          0.0\n",
              "2                  0          0.0\n",
              "3                  0          0.8\n",
              "4                  1          0.0\n",
              "5                  0          0.0\n",
              "6                  0          0.0\n",
              "\n",
              "Clustering vector:\n",
              " [1] 5 5 2 5 5 5 5 1 5 5 5 5 5 5 5 5 5 5 4 2 2 5 5 5 5 5 5 6 2 1 5 6 5 3 5 2 5 5\n",
              "[39] 3 5 5 5 5 1 5\n",
              "\n",
              "Within cluster sum of squares by cluster:\n",
              "[1] 1.7939465 0.7648458 0.2978700 0.0000000 0.6520855 1.0593578\n",
              " (between_SS / total_SS =  74.2 %)\n",
              "\n",
              "Available components:\n",
              "\n",
              "[1] \"cluster\"      \"centers\"      \"totss\"        \"withinss\"     \"tot.withinss\"\n",
              "[6] \"betweenss\"    \"size\"         \"iter\"         \"ifault\"      "
            ]
          },
          "metadata": {}
        },
        {
          "output_type": "stream",
          "name": "stdout",
          "text": [
            "List of 9\n",
            " $ cluster     : int [1:45] 5 5 2 5 5 5 5 1 5 5 ...\n",
            " $ centers     : num [1:6, 1:13] 0.2604 0.0603 0.0453 1 0.0206 ...\n",
            "  ..- attr(*, \"dimnames\")=List of 2\n",
            "  .. ..$ : chr [1:6] \"1\" \"2\" \"3\" \"4\" ...\n",
            "  .. ..$ : chr [1:13] \"Sum of QtyRequired\" \"Sum of TotalArea\" \"Sum of Amount\" \"DURRY\" ...\n",
            " $ totss       : num 17.7\n",
            " $ withinss    : num [1:6] 1.794 0.765 0.298 0 0.652 ...\n",
            " $ tot.withinss: num 4.57\n",
            " $ betweenss   : num 13.1\n",
            " $ size        : int [1:6] 3 5 2 1 32 2\n",
            " $ iter        : int 4\n",
            " $ ifault      : int 0\n",
            " - attr(*, \"class\")= chr \"kmeans\"\n"
          ]
        }
      ]
    },
    {
      "cell_type": "code",
      "source": [
        "#Using fviz_cluster to show all the clusters\n",
        "fviz_cluster(km1, data = data)"
      ],
      "metadata": {
        "colab": {
          "base_uri": "https://localhost:8080/",
          "height": 437
        },
        "id": "2nYejHKxYJtY",
        "outputId": "385e2133-c325-4779-d7b1-d6c408ed1c3a"
      },
      "execution_count": null,
      "outputs": [
        {
          "output_type": "display_data",
          "data": {
            "text/plain": [
              "plot without title"
            ],
            "image/png": "[encoded data removed]"
          },
          "metadata": {
            "image/png": {
              "width": 420,
              "height": 420
            }
          }
        }
      ]
    },
    {
      "cell_type": "markdown",
      "source": [
        "Identifying  similar  customers  and  sending  samples  accordingly,  in  order  to ensure order conversion after sample testing.  \n",
        "\n",
        "\n",
        "\n",
        "•  Below are some target strategies based on clustering: \n",
        "![image.png](data:image/png;base64,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)\n",
        "\n",
        "\n"
      ],
      "metadata": {
        "id": "6uLrUxL0imP7"
      }
    },
    {
      "cell_type": "code",
      "source": [
        "set.seed(123)\n",
        "# function to compute total within-cluster sum of square\n",
        "wss <- function(k) {\n",
        "  kmeans(data, centers = k, nstart = 100)$tot.withinss\n",
        "}"
      ],
      "metadata": {
        "id": "4-_LglbgYQf_"
      },
      "execution_count": null,
      "outputs": []
    },
    {
      "cell_type": "code",
      "source": [
        "k.values <- 1:15\n",
        "library(tidyverse)\n",
        "wss_values <- map_dbl(k.values, wss)\n",
        "plot(k.values, wss_values,\n",
        "     type=\"b\", pch = 19, frame = FALSE,\n",
        "     xlab=\"Number of clusters\",\n",
        "     ylab=\"Total within-clusters sum of squares\")"
      ],
      "metadata": {
        "colab": {
          "base_uri": "https://localhost:8080/",
          "height": 437
        },
        "id": "xI4Qe9t5YSyw",
        "outputId": "803f4d30-c10d-44f6-92c4-ffde5d6349e7"
      },
      "execution_count": null,
      "outputs": [
        {
          "output_type": "display_data",
          "data": {
            "text/plain": [
              "plot without title"
            ],
            "image/png": "[encoded data removed]"
          },
          "metadata": {
            "image/png": {
              "width": 420,
              "height": 420
            }
          }
        }
      ]
    },
    {
      "cell_type": "markdown",
      "source": [
        "Based on the results from K-means clustering optimal number of clusters are six.    "
      ],
      "metadata": {
        "id": "md6pKlE7qmlk"
      }
    },
    {
      "cell_type": "code",
      "source": [
        "#To get the scree plot, we can also use the “fviz_nbclust” function.\n",
        "set.seed(123)\n",
        "fviz_nbclust(data, kmeans, method = \"wss\")"
      ],
      "metadata": {
        "colab": {
          "base_uri": "https://localhost:8080/",
          "height": 437
        },
        "id": "e7IMIgqgYViY",
        "outputId": "c61465a0-7000-4bad-bacc-b7e57de7e373"
      },
      "execution_count": null,
      "outputs": [
        {
          "output_type": "display_data",
          "data": {
            "text/plain": [
              "plot without title"
            ],
            "image/png": "[encoded data removed]"
          },
          "metadata": {
            "image/png": {
              "width": 420,
              "height": 420
            }
          }
        }
      ]
    },
    {
      "cell_type": "code",
      "source": [
        "# function to compute average silhouette for k clusters\n",
        "library(cluster)\n",
        "avgsil <- function(k) {\n",
        "  kmModel <- kmeans(data, centers = k, nstart = 100)\n",
        "  ss <- silhouette(kmModel$cluster, dist(data))\n",
        "  mean(ss[, 3])\n",
        "}\n",
        "# Compute and plot wss for k = 2 to k = 15\n",
        "k.values <- 2:15\n",
        "# extract avg silhouette for 2-15 clusters\n",
        "avgsil_values <- map_dbl(k.values, avgsil)\n",
        "plot(k.values, avgsil_values,\n",
        "     type = \"b\", pch = 19, frame = FALSE,\n",
        "     xlab = \"Number of clusters\",\n",
        "     ylab = \"Average Silhouettes\")"
      ],
      "metadata": {
        "colab": {
          "base_uri": "https://localhost:8080/",
          "height": 437
        },
        "id": "E7JxwwYuYXY4",
        "outputId": "675c5c60-9455-490e-bbc7-dcb9ae36b4ad"
      },
      "execution_count": null,
      "outputs": [
        {
          "output_type": "display_data",
          "data": {
            "text/plain": [
              "plot without title"
            ],
            "image/png": "[encoded data removed]"
          },
          "metadata": {
            "image/png": {
              "width": 420,
              "height": 420
            }
          }
        }
      ]
    },
    {
      "cell_type": "code",
      "source": [
        "#Similar to the elbow method, the “average silhoutte method” can be found in fviz_nbclust function.\n",
        "fviz_nbclust(data, kmeans, method = \"silhouette\")\n",
        "\n",
        "data %>%\n",
        "    mutate(Cluster = km1$cluster) %>%\n",
        "    group_by(Cluster) %>%\n",
        "    summarise_all(\"mean\")"
      ],
      "metadata": {
        "colab": {
          "base_uri": "https://localhost:8080/",
          "height": 706
        },
        "id": "YK7wodyIYZjX",
        "outputId": "4b616054-aee0-4080-928c-fc6c52496a20"
      },
      "execution_count": null,
      "outputs": [
        {
          "output_type": "display_data",
          "data": {
            "text/html": [
              "<table class=\"dataframe\">\n",
              "<caption>A tibble: 6 × 14</caption>\n",
              "<thead>\n",
              "\t<tr><th scope=col>Cluster</th><th scope=col>Sum of QtyRequired</th><th scope=col>Sum of TotalArea</th><th scope=col>Sum of Amount</th><th scope=col>DURRY</th><th scope=col>HANDLOOM</th><th scope=col>DOUBLE BACK</th><th scope=col>JACQUARD</th><th scope=col>HAND TUFTED</th><th scope=col>HAND WOVEN</th><th scope=col>KNOTTED</th><th scope=col>GUN TUFTED</th><th scope=col>Powerloom Jacquard</th><th scope=col>INDO TEBETAN</th></tr>\n",
              "\t<tr><th scope=col>&lt;int&gt;</th><th scope=col>&lt;dbl&gt;</th><th scope=col>&lt;dbl&gt;</th><th scope=col>&lt;dbl&gt;</th><th scope=col>&lt;dbl&gt;</th><th scope=col>&lt;dbl&gt;</th><th scope=col>&lt;dbl&gt;</th><th scope=col>&lt;dbl&gt;</th><th scope=col>&lt;dbl&gt;</th><th scope=col>&lt;dbl&gt;</th><th scope=col>&lt;dbl&gt;</th><th scope=col>&lt;dbl&gt;</th><th scope=col>&lt;dbl&gt;</th><th scope=col>&lt;dbl&gt;</th></tr>\n",
              "</thead>\n",
              "<tbody>\n",
              "\t<tr><td>1</td><td>0.26036367</td><td>0.076379689</td><td>0.40698651</td><td>0.11757080</td><td>0.00000000</td><td>0.00000000</td><td>0.00000000</td><td>0.43693389</td><td>0.333333333</td><td>0.00000000</td><td>0.000000000</td><td>0</td><td>0.0</td></tr>\n",
              "\t<tr><td>2</td><td>0.06028580</td><td>0.065044358</td><td>0.06897577</td><td>0.01757510</td><td>0.04290770</td><td>0.16120610</td><td>0.65294118</td><td>0.08062948</td><td>0.123683107</td><td>0.04312776</td><td>0.030769231</td><td>0</td><td>0.0</td></tr>\n",
              "\t<tr><td>3</td><td>0.04533198</td><td>0.007526745</td><td>0.04263264</td><td>0.03670372</td><td>0.07187585</td><td>0.15223387</td><td>0.03501401</td><td>0.02171871</td><td>0.033289088</td><td>0.02041675</td><td>0.312820513</td><td>0</td><td>0.8</td></tr>\n",
              "\t<tr><td>4</td><td>1.00000000</td><td>0.092998692</td><td>0.33546999</td><td>1.00000000</td><td>1.00000000</td><td>0.00000000</td><td>0.77030812</td><td>0.43852682</td><td>0.209585022</td><td>0.00000000</td><td>0.000000000</td><td>1</td><td>0.0</td></tr>\n",
              "\t<tr><td>5</td><td>0.02059623</td><td>0.023717593</td><td>0.01060837</td><td>0.01831896</td><td>0.01818166</td><td>0.01255975</td><td>0.02976190</td><td>0.01337851</td><td>0.007645487</td><td>0.00294017</td><td>0.003044872</td><td>0</td><td>0.0</td></tr>\n",
              "\t<tr><td>6</td><td>0.17744700</td><td>0.689929357</td><td>0.22157557</td><td>0.09457591</td><td>0.16648516</td><td>0.93123736</td><td>0.28921569</td><td>0.04160007</td><td>0.294292301</td><td>0.69080194</td><td>0.500000000</td><td>0</td><td>0.0</td></tr>\n",
              "</tbody>\n",
              "</table>\n"
            ],
            "text/markdown": "\nA tibble: 6 × 14\n\n| Cluster &lt;int&gt; | Sum of QtyRequired &lt;dbl&gt; | Sum of TotalArea &lt;dbl&gt; | Sum of Amount &lt;dbl&gt; | DURRY &lt;dbl&gt; | HANDLOOM &lt;dbl&gt; | DOUBLE BACK &lt;dbl&gt; | JACQUARD &lt;dbl&gt; | HAND TUFTED &lt;dbl&gt; | HAND WOVEN &lt;dbl&gt; | KNOTTED &lt;dbl&gt; | GUN TUFTED &lt;dbl&gt; | Powerloom Jacquard &lt;dbl&gt; | INDO TEBETAN &lt;dbl&gt; |\n|---|---|---|---|---|---|---|---|---|---|---|---|---|---|\n| 1 | 0.26036367 | 0.076379689 | 0.40698651 | 0.11757080 | 0.00000000 | 0.00000000 | 0.00000000 | 0.43693389 | 0.333333333 | 0.00000000 | 0.000000000 | 0 | 0.0 |\n| 2 | 0.06028580 | 0.065044358 | 0.06897577 | 0.01757510 | 0.04290770 | 0.16120610 | 0.65294118 | 0.08062948 | 0.123683107 | 0.04312776 | 0.030769231 | 0 | 0.0 |\n| 3 | 0.04533198 | 0.007526745 | 0.04263264 | 0.03670372 | 0.07187585 | 0.15223387 | 0.03501401 | 0.02171871 | 0.033289088 | 0.02041675 | 0.312820513 | 0 | 0.8 |\n| 4 | 1.00000000 | 0.092998692 | 0.33546999 | 1.00000000 | 1.00000000 | 0.00000000 | 0.77030812 | 0.43852682 | 0.209585022 | 0.00000000 | 0.000000000 | 1 | 0.0 |\n| 5 | 0.02059623 | 0.023717593 | 0.01060837 | 0.01831896 | 0.01818166 | 0.01255975 | 0.02976190 | 0.01337851 | 0.007645487 | 0.00294017 | 0.003044872 | 0 | 0.0 |\n| 6 | 0.17744700 | 0.689929357 | 0.22157557 | 0.09457591 | 0.16648516 | 0.93123736 | 0.28921569 | 0.04160007 | 0.294292301 | 0.69080194 | 0.500000000 | 0 | 0.0 |\n\n",
            "text/latex": "A tibble: 6 × 14\n\\begin{tabular}{llllllllllllll}\n Cluster & Sum of QtyRequired & Sum of TotalArea & Sum of Amount & DURRY & HANDLOOM & DOUBLE BACK & JACQUARD & HAND TUFTED & HAND WOVEN & KNOTTED & GUN TUFTED & Powerloom Jacquard & INDO TEBETAN\\\\\n <int> & <dbl> & <dbl> & <dbl> & <dbl> & <dbl> & <dbl> & <dbl> & <dbl> & <dbl> & <dbl> & <dbl> & <dbl> & <dbl>\\\\\n\\hline\n\t 1 & 0.26036367 & 0.076379689 & 0.40698651 & 0.11757080 & 0.00000000 & 0.00000000 & 0.00000000 & 0.43693389 & 0.333333333 & 0.00000000 & 0.000000000 & 0 & 0.0\\\\\n\t 2 & 0.06028580 & 0.065044358 & 0.06897577 & 0.01757510 & 0.04290770 & 0.16120610 & 0.65294118 & 0.08062948 & 0.123683107 & 0.04312776 & 0.030769231 & 0 & 0.0\\\\\n\t 3 & 0.04533198 & 0.007526745 & 0.04263264 & 0.03670372 & 0.07187585 & 0.15223387 & 0.03501401 & 0.02171871 & 0.033289088 & 0.02041675 & 0.312820513 & 0 & 0.8\\\\\n\t 4 & 1.00000000 & 0.092998692 & 0.33546999 & 1.00000000 & 1.00000000 & 0.00000000 & 0.77030812 & 0.43852682 & 0.209585022 & 0.00000000 & 0.000000000 & 1 & 0.0\\\\\n\t 5 & 0.02059623 & 0.023717593 & 0.01060837 & 0.01831896 & 0.01818166 & 0.01255975 & 0.02976190 & 0.01337851 & 0.007645487 & 0.00294017 & 0.003044872 & 0 & 0.0\\\\\n\t 6 & 0.17744700 & 0.689929357 & 0.22157557 & 0.09457591 & 0.16648516 & 0.93123736 & 0.28921569 & 0.04160007 & 0.294292301 & 0.69080194 & 0.500000000 & 0 & 0.0\\\\\n\\end{tabular}\n",
            "text/plain": [
              "  Cluster Sum of QtyRequired Sum of TotalArea Sum of Amount DURRY     \n",
              "1 1       0.26036367         0.076379689      0.40698651    0.11757080\n",
              "2 2       0.06028580         0.065044358      0.06897577    0.01757510\n",
              "3 3       0.04533198         0.007526745      0.04263264    0.03670372\n",
              "4 4       1.00000000         0.092998692      0.33546999    1.00000000\n",
              "5 5       0.02059623         0.023717593      0.01060837    0.01831896\n",
              "6 6       0.17744700         0.689929357      0.22157557    0.09457591\n",
              "  HANDLOOM   DOUBLE BACK JACQUARD   HAND TUFTED HAND WOVEN  KNOTTED   \n",
              "1 0.00000000 0.00000000  0.00000000 0.43693389  0.333333333 0.00000000\n",
              "2 0.04290770 0.16120610  0.65294118 0.08062948  0.123683107 0.04312776\n",
              "3 0.07187585 0.15223387  0.03501401 0.02171871  0.033289088 0.02041675\n",
              "4 1.00000000 0.00000000  0.77030812 0.43852682  0.209585022 0.00000000\n",
              "5 0.01818166 0.01255975  0.02976190 0.01337851  0.007645487 0.00294017\n",
              "6 0.16648516 0.93123736  0.28921569 0.04160007  0.294292301 0.69080194\n",
              "  GUN TUFTED  Powerloom Jacquard INDO TEBETAN\n",
              "1 0.000000000 0                  0.0         \n",
              "2 0.030769231 0                  0.0         \n",
              "3 0.312820513 0                  0.8         \n",
              "4 0.000000000 1                  0.0         \n",
              "5 0.003044872 0                  0.0         \n",
              "6 0.500000000 0                  0.0         "
            ]
          },
          "metadata": {}
        },
        {
          "output_type": "display_data",
          "data": {
            "text/plain": [
              "plot without title"
            ],
            "image/png": "[encoded data removed]"
          },
          "metadata": {
            "image/png": {
              "width": 420,
              "height": 420
            }
          }
        }
      ]
    },
    {
      "cell_type": "code",
      "source": [],
      "metadata": {
        "id": "Nopjquhqaooj"
      },
      "execution_count": null,
      "outputs": []
    }
  ]
}